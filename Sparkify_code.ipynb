{
  "cells": [
    {
      "cell_type": "code",
      "execution_count": 3,
      "source": [
        "# import libraries\n",
        "!pip install pyspark\n",
        "from pyspark import SparkConf, SparkContext\n",
        "from pyspark.sql import SparkSession,Window\n",
        "from pyspark.sql.types import *\n",
        "from pyspark.sql.functions import *\n",
        "\n",
        "import re\n",
        "import datetime\n",
        "\n",
        "import numpy as np\n",
        "import pandas as pd\n",
        "import seaborn as sns\n",
        "import matplotlib.pyplot as plt\n"
      ],
      "outputs": [
        {
          "output_type": "stream",
          "name": "stdout",
          "text": [
            "Collecting pyspark\n",
            "  Downloading pyspark-3.2.1.tar.gz (281.4 MB)\n",
            "\u001b[K     |████████████████████████████████| 281.4 MB 35 kB/s \n",
            "\u001b[?25hCollecting py4j==0.10.9.3\n",
            "  Downloading py4j-0.10.9.3-py2.py3-none-any.whl (198 kB)\n",
            "\u001b[K     |████████████████████████████████| 198 kB 58.3 MB/s \n",
            "\u001b[?25hBuilding wheels for collected packages: pyspark\n",
            "  Building wheel for pyspark (setup.py) ... \u001b[?25l\u001b[?25hdone\n",
            "  Created wheel for pyspark: filename=pyspark-3.2.1-py2.py3-none-any.whl size=281853642 sha256=e988f98604fb900b91c5b70f646e087d01fc904a1c596b536ee047e3909d8277\n",
            "  Stored in directory: /root/.cache/pip/wheels/9f/f5/07/7cd8017084dce4e93e84e92efd1e1d5334db05f2e83bcef74f\n",
            "Successfully built pyspark\n",
            "Installing collected packages: py4j, pyspark\n",
            "Successfully installed py4j-0.10.9.3 pyspark-3.2.1\n"
          ]
        }
      ],
      "metadata": {
        "application/vnd.databricks.v1+cell": {
          "title": "",
          "showTitle": false,
          "inputWidgets": {},
          "nuid": "a52604f6-f46d-4cbf-8427-83a7668c195f"
        },
        "colab": {
          "base_uri": "https://localhost:8080/"
        },
        "id": "Bz8IPwC29vNk",
        "outputId": "1233535c-5e66-4d1f-b3ed-a8f052d46d50"
      }
    },
    {
      "cell_type": "code",
      "execution_count": 4,
      "source": [
        "# Create spark session\n",
        "spark = SparkSession.builder.appName(\"Sparkify\").getOrCreate()\n"
      ],
      "outputs": [],
      "metadata": {
        "application/vnd.databricks.v1+cell": {
          "title": "",
          "showTitle": false,
          "inputWidgets": {},
          "nuid": "b9bfbfc6-4391-4882-8345-5c4aadcde618"
        },
        "id": "us5dQCz79vNk"
      }
    },
    {
      "cell_type": "markdown",
      "source": [
        "# Data Preprocessing"
      ],
      "metadata": {
        "id": "ltWgf1kRgiV9"
      }
    },
    {
      "cell_type": "code",
      "execution_count": 17,
      "source": [
        "\n",
        "df = spark.read.json('s3n://udacity-dsnd/sparkify/sparkify_event_data.json')\n",
        "df.head()"
      ],
      "outputs": [
        {
          "output_type": "execute_result",
          "data": {
            "text/plain": [
              "Row(artist='Martha Tilston', auth='Logged In', firstName='Colin', gender='M', itemInSession=50, lastName='Freeman', length=277.89016, level='paid', location='Bakersfield, CA', method='PUT', page='NextSong', registration=1538173362000, sessionId=29, song='Rockpools', status=200, ts=1538352117000, userAgent='Mozilla/5.0 (Windows NT 6.1; WOW64; rv:31.0) Gecko/20100101 Firefox/31.0', userId='30')"
            ]
          },
          "metadata": {},
          "execution_count": 17
        }
      ],
      "metadata": {
        "application/vnd.databricks.v1+cell": {
          "title": "",
          "showTitle": false,
          "inputWidgets": {},
          "nuid": "c726ea9e-5e86-431b-bc6a-aeda71e4720f"
        },
        "colab": {
          "base_uri": "https://localhost:8080/"
        },
        "id": "91uR1fip9vNm",
        "outputId": "514a60a7-f73c-4c75-8e7e-f990e5904c2c"
      }
    },
    {
      "cell_type": "code",
      "execution_count": 10,
      "source": [
        "# check the columns\n",
        "df.printSchema()"
      ],
      "outputs": [
        {
          "output_type": "stream",
          "name": "stdout",
          "text": [
            "root\n",
            " |-- artist: string (nullable = true)\n",
            " |-- auth: string (nullable = true)\n",
            " |-- firstName: string (nullable = true)\n",
            " |-- gender: string (nullable = true)\n",
            " |-- itemInSession: long (nullable = true)\n",
            " |-- lastName: string (nullable = true)\n",
            " |-- length: double (nullable = true)\n",
            " |-- level: string (nullable = true)\n",
            " |-- location: string (nullable = true)\n",
            " |-- method: string (nullable = true)\n",
            " |-- page: string (nullable = true)\n",
            " |-- registration: long (nullable = true)\n",
            " |-- sessionId: long (nullable = true)\n",
            " |-- song: string (nullable = true)\n",
            " |-- status: long (nullable = true)\n",
            " |-- ts: long (nullable = true)\n",
            " |-- userAgent: string (nullable = true)\n",
            " |-- userId: string (nullable = true)\n",
            "\n"
          ]
        }
      ],
      "metadata": {
        "application/vnd.databricks.v1+cell": {
          "title": "",
          "showTitle": false,
          "inputWidgets": {},
          "nuid": "a3a4121b-2f23-4fe9-a08c-be1aca0cb8aa"
        },
        "colab": {
          "base_uri": "https://localhost:8080/"
        },
        "id": "rKBsE31n9vNm",
        "outputId": "69462a6d-5208-43a5-d539-607f4d2d783c"
      }
    },
    {
      "cell_type": "code",
      "execution_count": 11,
      "source": [
        "# count rows\n",
        "# print('There are',df.count(),'observations in this dataset.')\n",
        "print('There are',df.count(),'observations in this dataset.')\n",
        "\n",
        "# show first 5 rows\n",
        "df.show(n=5)"
      ],
      "outputs": [
        {
          "output_type": "stream",
          "name": "stdout",
          "text": [
            "There are 286500 observations in this dataset.\n",
            "+----------------+---------+---------+------+-------------+--------+---------+-----+--------------------+------+--------+-------------+---------+--------------------+------+-------------+--------------------+------+\n",
            "|          artist|     auth|firstName|gender|itemInSession|lastName|   length|level|            location|method|    page| registration|sessionId|                song|status|           ts|           userAgent|userId|\n",
            "+----------------+---------+---------+------+-------------+--------+---------+-----+--------------------+------+--------+-------------+---------+--------------------+------+-------------+--------------------+------+\n",
            "|  Martha Tilston|Logged In|    Colin|     M|           50| Freeman|277.89016| paid|     Bakersfield, CA|   PUT|NextSong|1538173362000|       29|           Rockpools|   200|1538352117000|Mozilla/5.0 (Wind...|    30|\n",
            "|Five Iron Frenzy|Logged In|    Micah|     M|           79|    Long|236.09424| free|Boston-Cambridge-...|   PUT|NextSong|1538331630000|        8|              Canada|   200|1538352180000|\"Mozilla/5.0 (Win...|     9|\n",
            "|    Adam Lambert|Logged In|    Colin|     M|           51| Freeman| 282.8273| paid|     Bakersfield, CA|   PUT|NextSong|1538173362000|       29|   Time For Miracles|   200|1538352394000|Mozilla/5.0 (Wind...|    30|\n",
            "|          Enigma|Logged In|    Micah|     M|           80|    Long|262.71302| free|Boston-Cambridge-...|   PUT|NextSong|1538331630000|        8|Knocking On Forbi...|   200|1538352416000|\"Mozilla/5.0 (Win...|     9|\n",
            "|       Daft Punk|Logged In|    Colin|     M|           52| Freeman|223.60771| paid|     Bakersfield, CA|   PUT|NextSong|1538173362000|       29|Harder Better Fas...|   200|1538352676000|Mozilla/5.0 (Wind...|    30|\n",
            "+----------------+---------+---------+------+-------------+--------+---------+-----+--------------------+------+--------+-------------+---------+--------------------+------+-------------+--------------------+------+\n",
            "only showing top 5 rows\n",
            "\n"
          ]
        }
      ],
      "metadata": {
        "application/vnd.databricks.v1+cell": {
          "title": "",
          "showTitle": false,
          "inputWidgets": {},
          "nuid": "07f0eb96-ff8c-4025-98cb-821f73280a70"
        },
        "colab": {
          "base_uri": "https://localhost:8080/"
        },
        "id": "z6eUk_Oa9vNm",
        "outputId": "7db9c473-f989-4dd0-d08a-0d2ab6a42d64"
      }
    },
    {
      "cell_type": "code",
      "execution_count": 12,
      "source": [
        "### Get count of both null and missing values in pyspark\n",
        "from pyspark.sql.functions import isnan, when, count, col \n",
        "df.select([count(when(isnan(c) | col(c).isNull(), c)).alias(c) for c in df.columns]).show()\n"
      ],
      "outputs": [
        {
          "output_type": "stream",
          "name": "stdout",
          "text": [
            "+------+----+---------+------+-------------+--------+------+-----+--------+------+----+------------+---------+-----+------+---+---------+------+\n",
            "|artist|auth|firstName|gender|itemInSession|lastName|length|level|location|method|page|registration|sessionId| song|status| ts|userAgent|userId|\n",
            "+------+----+---------+------+-------------+--------+------+-----+--------+------+----+------------+---------+-----+------+---+---------+------+\n",
            "| 58392|   0|     8346|  8346|            0|    8346| 58392|    0|    8346|     0|   0|        8346|        0|58392|     0|  0|     8346|     0|\n",
            "+------+----+---------+------+-------------+--------+------+-----+--------+------+----+------------+---------+-----+------+---+---------+------+\n",
            "\n"
          ]
        }
      ],
      "metadata": {
        "application/vnd.databricks.v1+cell": {
          "title": "Handle missing value",
          "showTitle": true,
          "inputWidgets": {},
          "nuid": "30c4dfea-137a-4885-a192-44c0a3fbb1d1"
        },
        "colab": {
          "base_uri": "https://localhost:8080/"
        },
        "id": "DDKdCSHe9vNm",
        "outputId": "219c1122-c2cf-402f-ffbe-779039e1c20d"
      }
    },
    {
      "cell_type": "code",
      "execution_count": 18,
      "source": [
        "# Deleting the rows with missing value in firstName column\n",
        "df_clean = df.filter(df.userId != \"\")\n",
        "df_clean.select([count(when(isnan(c) | col(c).isNull(), c)).alias(c) for c in df_clean.columns]).show()\n"
      ],
      "outputs": [
        {
          "output_type": "stream",
          "name": "stdout",
          "text": [
            "+------+----+---------+------+-------------+--------+------+-----+--------+------+----+------------+---------+-----+------+---+---------+------+\n",
            "|artist|auth|firstName|gender|itemInSession|lastName|length|level|location|method|page|registration|sessionId| song|status| ts|userAgent|userId|\n",
            "+------+----+---------+------+-------------+--------+------+-----+--------+------+----+------------+---------+-----+------+---+---------+------+\n",
            "| 50046|   0|        0|     0|            0|       0| 50046|    0|       0|     0|   0|           0|        0|50046|     0|  0|        0|     0|\n",
            "+------+----+---------+------+-------------+--------+------+-----+--------+------+----+------------+---------+-----+------+---+---------+------+\n",
            "\n"
          ]
        }
      ],
      "metadata": {
        "application/vnd.databricks.v1+cell": {
          "title": "",
          "showTitle": false,
          "inputWidgets": {},
          "nuid": "ead1127d-2bc9-4e49-8fc3-6b146c57c8c9"
        },
        "colab": {
          "base_uri": "https://localhost:8080/"
        },
        "id": "nV_sWTsW9vNm",
        "outputId": "e238135e-8aae-46ea-bdae-448369d3fb52"
      }
    },
    {
      "cell_type": "code",
      "execution_count": null,
      "source": [
        "# Deleting the rows with missing value in artist column\n",
        "#df_clean = df_clean.filter(df.artist != \"\")\n",
        "#df_clean.select([count(when(isnan(c) | col(c).isNull(), c)).alias(c) for c in df_clean.columns]).show()\n",
        "\n",
        "# Notice: In small dataset, we can not delete the artist column with missing value or it will delete all the cancel confirmation roll\n",
        "# But in the large dataset, it's ok to delete the artist column with missing value"
      ],
      "outputs": [
        {
          "output_type": "display_data",
          "data": {
            "text/plain": [
              "+------+----+---------+------+-------------+--------+------+-----+--------+------+----+------------+---------+----+------+---+---------+------+\n",
              "|artist|auth|firstName|gender|itemInSession|lastName|length|level|location|method|page|registration|sessionId|song|status| ts|userAgent|userId|\n",
              "+------+----+---------+------+-------------+--------+------+-----+--------+------+----+------------+---------+----+------+---+---------+------+\n",
              "|     0|   0|        0|     0|            0|       0|     0|    0|       0|     0|   0|           0|        0|   0|     0|  0|        0|     0|\n",
              "+------+----+---------+------+-------------+--------+------+-----+--------+------+----+------------+---------+----+------+---+---------+------+\n",
              "\n"
            ]
          },
          "metadata": {
            "application/vnd.databricks.v1+output": {
              "datasetInfos": [],
              "data": "+------+----+---------+------+-------------+--------+------+-----+--------+------+----+------------+---------+----+------+---+---------+------+\n|artist|auth|firstName|gender|itemInSession|lastName|length|level|location|method|page|registration|sessionId|song|status| ts|userAgent|userId|\n+------+----+---------+------+-------------+--------+------+-----+--------+------+----+------------+---------+----+------+---+---------+------+\n|     0|   0|        0|     0|            0|       0|     0|    0|       0|     0|   0|           0|        0|   0|     0|  0|        0|     0|\n+------+----+---------+------+-------------+--------+------+-----+--------+------+----+------------+---------+----+------+---+---------+------+\n\n",
              "removedWidgets": [],
              "addedWidgets": {},
              "metadata": {},
              "type": "ansi",
              "arguments": {}
            }
          }
        }
      ],
      "metadata": {
        "application/vnd.databricks.v1+cell": {
          "title": "",
          "showTitle": false,
          "inputWidgets": {},
          "nuid": "0bbd44dc-f8cd-4844-87e5-de1279b11f1a"
        },
        "id": "YDzZ3S8E9vNm",
        "outputId": "9bd5a14d-b73d-47ff-c907-6a6de6576a7f"
      }
    },
    {
      "cell_type": "code",
      "execution_count": 19,
      "source": [
        "# Extract the state abbreviation from the original address in location column\n",
        "df_clean = df_clean.withColumn('state', trim(split(col('location'),',').getItem(1)))\n",
        "\n",
        "# drop unnecessary column\n",
        "df_clean = df_clean.drop('location','firstName','lastName')\n",
        "df_clean.show(n = 5)"
      ],
      "outputs": [
        {
          "output_type": "stream",
          "name": "stdout",
          "text": [
            "+----------------+---------+------+-------------+---------+-----+------+--------+-------------+---------+--------------------+------+-------------+--------------------+------+-----+\n",
            "|          artist|     auth|gender|itemInSession|   length|level|method|    page| registration|sessionId|                song|status|           ts|           userAgent|userId|state|\n",
            "+----------------+---------+------+-------------+---------+-----+------+--------+-------------+---------+--------------------+------+-------------+--------------------+------+-----+\n",
            "|  Martha Tilston|Logged In|     M|           50|277.89016| paid|   PUT|NextSong|1538173362000|       29|           Rockpools|   200|1538352117000|Mozilla/5.0 (Wind...|    30|   CA|\n",
            "|Five Iron Frenzy|Logged In|     M|           79|236.09424| free|   PUT|NextSong|1538331630000|        8|              Canada|   200|1538352180000|\"Mozilla/5.0 (Win...|     9|MA-NH|\n",
            "|    Adam Lambert|Logged In|     M|           51| 282.8273| paid|   PUT|NextSong|1538173362000|       29|   Time For Miracles|   200|1538352394000|Mozilla/5.0 (Wind...|    30|   CA|\n",
            "|          Enigma|Logged In|     M|           80|262.71302| free|   PUT|NextSong|1538331630000|        8|Knocking On Forbi...|   200|1538352416000|\"Mozilla/5.0 (Win...|     9|MA-NH|\n",
            "|       Daft Punk|Logged In|     M|           52|223.60771| paid|   PUT|NextSong|1538173362000|       29|Harder Better Fas...|   200|1538352676000|Mozilla/5.0 (Wind...|    30|   CA|\n",
            "+----------------+---------+------+-------------+---------+-----+------+--------+-------------+---------+--------------------+------+-------------+--------------------+------+-----+\n",
            "only showing top 5 rows\n",
            "\n"
          ]
        }
      ],
      "metadata": {
        "application/vnd.databricks.v1+cell": {
          "title": "Create State column",
          "showTitle": true,
          "inputWidgets": {},
          "nuid": "921d53cf-aab4-49f3-981a-9e15aeee153c"
        },
        "colab": {
          "base_uri": "https://localhost:8080/"
        },
        "id": "UpFY69Xl9vNm",
        "outputId": "e2f991fc-239d-4d7d-e0b6-84b23d8dabdd"
      }
    },
    {
      "cell_type": "code",
      "execution_count": 20,
      "source": [
        "# Create month, date columns from timestamp column\n",
        "df_clean = df_clean.withColumn('epoch_time', from_unixtime(col('ts').cast(LongType())/1000).cast(TimestampType())) # convert timestamp to epoch time\n",
        "df_clean = df_clean.withColumn('date', from_unixtime(col('ts')/1000).cast(DateType()))\n",
        "df_clean = df_clean.withColumn('month', month(col('epoch_time')))\n",
        "df_clean.show(5)"
      ],
      "outputs": [
        {
          "output_type": "stream",
          "name": "stdout",
          "text": [
            "+----------------+---------+------+-------------+---------+-----+------+--------+-------------+---------+--------------------+------+-------------+--------------------+------+-----+-------------------+----------+-----+\n",
            "|          artist|     auth|gender|itemInSession|   length|level|method|    page| registration|sessionId|                song|status|           ts|           userAgent|userId|state|         epoch_time|      date|month|\n",
            "+----------------+---------+------+-------------+---------+-----+------+--------+-------------+---------+--------------------+------+-------------+--------------------+------+-----+-------------------+----------+-----+\n",
            "|  Martha Tilston|Logged In|     M|           50|277.89016| paid|   PUT|NextSong|1538173362000|       29|           Rockpools|   200|1538352117000|Mozilla/5.0 (Wind...|    30|   CA|2018-10-01 00:01:57|2018-10-01|   10|\n",
            "|Five Iron Frenzy|Logged In|     M|           79|236.09424| free|   PUT|NextSong|1538331630000|        8|              Canada|   200|1538352180000|\"Mozilla/5.0 (Win...|     9|MA-NH|2018-10-01 00:03:00|2018-10-01|   10|\n",
            "|    Adam Lambert|Logged In|     M|           51| 282.8273| paid|   PUT|NextSong|1538173362000|       29|   Time For Miracles|   200|1538352394000|Mozilla/5.0 (Wind...|    30|   CA|2018-10-01 00:06:34|2018-10-01|   10|\n",
            "|          Enigma|Logged In|     M|           80|262.71302| free|   PUT|NextSong|1538331630000|        8|Knocking On Forbi...|   200|1538352416000|\"Mozilla/5.0 (Win...|     9|MA-NH|2018-10-01 00:06:56|2018-10-01|   10|\n",
            "|       Daft Punk|Logged In|     M|           52|223.60771| paid|   PUT|NextSong|1538173362000|       29|Harder Better Fas...|   200|1538352676000|Mozilla/5.0 (Wind...|    30|   CA|2018-10-01 00:11:16|2018-10-01|   10|\n",
            "+----------------+---------+------+-------------+---------+-----+------+--------+-------------+---------+--------------------+------+-------------+--------------------+------+-----+-------------------+----------+-----+\n",
            "only showing top 5 rows\n",
            "\n"
          ]
        }
      ],
      "metadata": {
        "application/vnd.databricks.v1+cell": {
          "title": "Create 'epoch time' from timestamp",
          "showTitle": true,
          "inputWidgets": {},
          "nuid": "d0a8fcfa-4b00-4353-a044-ca11ff9be7ea"
        },
        "colab": {
          "base_uri": "https://localhost:8080/"
        },
        "id": "yalgkYn_9vNn",
        "outputId": "821da55e-47e6-4d89-9d8d-dcd8994fbdc6"
      }
    },
    {
      "cell_type": "code",
      "execution_count": 21,
      "source": [
        "# We extract browser data from the userAgent column\n",
        "agent = udf(lambda x: str(re.findall(r'\\((.*?)\\)', x)[0].split(\";\")[0].split()[0]) if x is not None else None, StringType())\n",
        "\n",
        "# Create new browser column and drop the userAgent\n",
        "df_clean = df_clean.withColumn(\"agent\", agent(df_clean.userAgent))\n",
        "df_clean = df_clean.drop('userAgent')\n",
        "df_clean.show(5)"
      ],
      "outputs": [
        {
          "output_type": "stream",
          "name": "stdout",
          "text": [
            "+----------------+---------+------+-------------+---------+-----+------+--------+-------------+---------+--------------------+------+-------------+------+-----+-------------------+----------+-----+-------+\n",
            "|          artist|     auth|gender|itemInSession|   length|level|method|    page| registration|sessionId|                song|status|           ts|userId|state|         epoch_time|      date|month|  agent|\n",
            "+----------------+---------+------+-------------+---------+-----+------+--------+-------------+---------+--------------------+------+-------------+------+-----+-------------------+----------+-----+-------+\n",
            "|  Martha Tilston|Logged In|     M|           50|277.89016| paid|   PUT|NextSong|1538173362000|       29|           Rockpools|   200|1538352117000|    30|   CA|2018-10-01 00:01:57|2018-10-01|   10|Windows|\n",
            "|Five Iron Frenzy|Logged In|     M|           79|236.09424| free|   PUT|NextSong|1538331630000|        8|              Canada|   200|1538352180000|     9|MA-NH|2018-10-01 00:03:00|2018-10-01|   10|Windows|\n",
            "|    Adam Lambert|Logged In|     M|           51| 282.8273| paid|   PUT|NextSong|1538173362000|       29|   Time For Miracles|   200|1538352394000|    30|   CA|2018-10-01 00:06:34|2018-10-01|   10|Windows|\n",
            "|          Enigma|Logged In|     M|           80|262.71302| free|   PUT|NextSong|1538331630000|        8|Knocking On Forbi...|   200|1538352416000|     9|MA-NH|2018-10-01 00:06:56|2018-10-01|   10|Windows|\n",
            "|       Daft Punk|Logged In|     M|           52|223.60771| paid|   PUT|NextSong|1538173362000|       29|Harder Better Fas...|   200|1538352676000|    30|   CA|2018-10-01 00:11:16|2018-10-01|   10|Windows|\n",
            "+----------------+---------+------+-------------+---------+-----+------+--------+-------------+---------+--------------------+------+-------------+------+-----+-------------------+----------+-----+-------+\n",
            "only showing top 5 rows\n",
            "\n"
          ]
        }
      ],
      "metadata": {
        "application/vnd.databricks.v1+cell": {
          "title": "Create browser column",
          "showTitle": true,
          "inputWidgets": {},
          "nuid": "cc42ee03-04b2-4c16-a2b5-039a4e22e752"
        },
        "colab": {
          "base_uri": "https://localhost:8080/"
        },
        "id": "CxGzB1nR9vNn",
        "outputId": "8fddc897-002a-42b9-ce25-8f190467debc"
      }
    },
    {
      "cell_type": "markdown",
      "source": [
        "## Define Churn:the Cancellation Confirmation events , which happen for both paid and free users"
      ],
      "metadata": {
        "id": "RueDH02VQiK4"
      }
    },
    {
      "cell_type": "code",
      "execution_count": 22,
      "source": [
        "# Define Churn: event(page) with \"Cancellation Confirmation\" for both paid and free users.\n",
        "# Create a binary column \"Churn\" as the target variable for our model, where 1 for customers who churned and 0 for customers who did not\n",
        "\n",
        "#df_clean.select(['page']).dropDuplicates().show()\n",
        "df_clean.filter(\"page = 'Cancellation Confirmation'\").show(n=20) # There is no churn rows in mini datset\n",
        "flag_churn_event = udf(lambda x: 1 if x == \"Cancellation Confirmation\" else 0, IntegerType())\n",
        "df_clean = df_clean.withColumn(\"Churn\", flag_churn_event(\"page\"))\n",
        "\n",
        "# add churn user flag\n",
        "df_clean = df_clean.withColumn(\"label\", max('Churn').over(Window.partitionBy('UserId')))"
      ],
      "outputs": [
        {
          "output_type": "stream",
          "name": "stdout",
          "text": [
            "+------+---------+------+-------------+------+-----+------+--------------------+-------------+---------+----+------+-------------+------+-----------+-------------------+----------+-----+---------+\n",
            "|artist|     auth|gender|itemInSession|length|level|method|                page| registration|sessionId|song|status|           ts|userId|      state|         epoch_time|      date|month|    agent|\n",
            "+------+---------+------+-------------+------+-----+------+--------------------+-------------+---------+----+------+-------------+------+-----------+-------------------+----------+-----+---------+\n",
            "|  null|Cancelled|     M|          104|  null| paid|   GET|Cancellation Conf...|1535623466000|      514|null|   200|1538943990000|    18|      MO-KS|2018-10-07 20:26:30|2018-10-07|   10|Macintosh|\n",
            "|  null|Cancelled|     M|           56|  null| paid|   GET|Cancellation Conf...|1537167593000|      540|null|   200|1539033046000|    32|         AZ|2018-10-08 21:10:46|2018-10-08|   10|   iPhone|\n",
            "|  null|Cancelled|     M|           10|  null| free|   GET|Cancellation Conf...|1533157139000|      174|null|   200|1539318918000|   125|         TX|2018-10-12 04:35:18|2018-10-12|   10|Macintosh|\n",
            "|  null|Cancelled|     M|          332|  null| paid|   GET|Cancellation Conf...|1536817381000|      508|null|   200|1539375441000|   105|         IN|2018-10-12 20:17:21|2018-10-12|   10|  Windows|\n",
            "|  null|Cancelled|     F|          273|  null| paid|   GET|Cancellation Conf...|1538333829000|      797|null|   200|1539465584000|    17|PA-NJ-DE-MD|2018-10-13 21:19:44|2018-10-13|   10|  Windows|\n",
            "|  null|Cancelled|     F|           29|  null| free|   GET|Cancellation Conf...|1534255113000|      843|null|   200|1539588854000|   143|      VA-NC|2018-10-15 07:34:14|2018-10-15|   10|Macintosh|\n",
            "|  null|Cancelled|     M|          145|  null| paid|   GET|Cancellation Conf...|1535066380000|      842|null|   200|1539729037000|   101|         CO|2018-10-16 22:30:37|2018-10-16|   10|  Windows|\n",
            "|  null|Cancelled|     M|           34|  null| paid|   GET|Cancellation Conf...|1538289776000|      802|null|   200|1539736161000|   129|         MI|2018-10-17 00:29:21|2018-10-17|   10|  Windows|\n",
            "|  null|Cancelled|     M|          287|  null| paid|   GET|Cancellation Conf...|1528403713000|      881|null|   200|1539759749000|   121|         CA|2018-10-17 07:02:29|2018-10-17|   10|      X11|\n",
            "|  null|Cancelled|     M|          176|  null| paid|   GET|Cancellation Conf...|1538080987000|      934|null|   200|1539761972000|    51|         KY|2018-10-17 07:39:32|2018-10-17|   10|  Windows|\n",
            "|  null|Cancelled|     M|          100|  null| paid|   GET|Cancellation Conf...|1534942082000|     1092|null|   200|1540050556000|    87|      IL-MO|2018-10-20 15:49:16|2018-10-20|   10|  Windows|\n",
            "|  null|Cancelled|     F|           43|  null| paid|   GET|Cancellation Conf...|1535498705000|     1029|null|   200|1540062068000|   122|   TN-MS-AR|2018-10-20 19:01:08|2018-10-20|   10|      X11|\n",
            "|  null|Cancelled|     F|           72|  null| paid|   GET|Cancellation Conf...|1533885783000|     1072|null|   200|1540193374000|    12|         CA|2018-10-22 07:29:34|2018-10-22|   10|  Windows|\n",
            "|  null|Cancelled|     M|           48|  null| paid|   GET|Cancellation Conf...|1537956751000|     1112|null|   200|1540223006000|    58|         AL|2018-10-22 15:43:26|2018-10-22|   10|  Windows|\n",
            "|  null|Cancelled|     F|           11|  null| paid|   GET|Cancellation Conf...|1536102943000|     1059|null|   200|1540402387000|    73|         NY|2018-10-24 17:33:07|2018-10-24|   10|  Windows|\n",
            "|  null|Cancelled|     M|           46|  null| paid|   GET|Cancellation Conf...|1533886191000|     1324|null|   200|1540875543000|     3|         MT|2018-10-30 04:59:03|2018-10-30|   10|  Windows|\n",
            "|  null|Cancelled|     F|           18|  null| paid|   GET|Cancellation Conf...|1537679535000|     1383|null|   200|1541166424000|   106|         CA|2018-11-02 13:47:04|2018-11-02|   11|Macintosh|\n",
            "|  null|Cancelled|     F|            8|  null| paid|   GET|Cancellation Conf...|1537699856000|     1583|null|   200|1541340091000|   103|   NY-NJ-PA|2018-11-04 14:01:31|2018-11-04|   11|Macintosh|\n",
            "|  null|Cancelled|     F|          306|  null| paid|   GET|Cancellation Conf...|1537634865000|     1519|null|   200|1541463632000|    28|         OH|2018-11-06 00:20:32|2018-11-06|   11|  Windows|\n",
            "|  null|Cancelled|     F|           42|  null| paid|   GET|Cancellation Conf...|1532482662000|     1819|null|   200|1542051608000|    54|         WA|2018-11-12 19:40:08|2018-11-12|   11|  Windows|\n",
            "+------+---------+------+-------------+------+-----+------+--------------------+-------------+---------+----+------+-------------+------+-----------+-------------------+----------+-----+---------+\n",
            "only showing top 20 rows\n",
            "\n"
          ]
        }
      ],
      "metadata": {
        "application/vnd.databricks.v1+cell": {
          "title": "Create target variable & define Churn",
          "showTitle": true,
          "inputWidgets": {},
          "nuid": "925e3767-aef8-4d42-9f60-8cfffc5e515f"
        },
        "colab": {
          "base_uri": "https://localhost:8080/"
        },
        "id": "o4f0KEj39vNn",
        "outputId": "d9d07c37-7389-4fd1-a993-b7a2014be3e2"
      }
    },
    {
      "cell_type": "code",
      "execution_count": 23,
      "source": [
        "# find out users who downgraded their service\n",
        "df_clean.filter(\"page = 'Downgrade'\").show(1)\n",
        "\n",
        "# lable downgrade event,1 for downgraded, 0 for not\n",
        "flag_downgrade_event = udf(lambda x: 1 if x == \"Downgrade\" else 0, IntegerType())\n",
        "df_clean = df_clean.withColumn(\"Downgrade\", flag_downgrade_event(\"page\"))\n",
        "\n",
        "# add downgraded user flag\n",
        "df_clean = df_clean.withColumn(\"downgraded\", max('Downgrade').over(Window.partitionBy('UserId')))\n",
        "\n",
        "# delete 'Downgrade','Churn' columns\n",
        "df_clean = df_clean.drop('Downgrade','Churn')"
      ],
      "outputs": [
        {
          "output_type": "stream",
          "name": "stdout",
          "text": [
            "+------+---------+------+-------------+------+-----+------+---------+-------------+---------+----+------+-------------+------+-----+-------------------+----------+-----+-------+-----+-----+\n",
            "|artist|     auth|gender|itemInSession|length|level|method|     page| registration|sessionId|song|status|           ts|userId|state|         epoch_time|      date|month|  agent|Churn|label|\n",
            "+------+---------+------+-------------+------+-----+------+---------+-------------+---------+----+------+-------------+------+-----+-------------------+----------+-----+-------+-----+-----+\n",
            "|  null|Logged In|     M|           27|  null| paid|   GET|Downgrade|1537982255000|      369|null|   200|1538618142000|   100|   TX|2018-10-04 01:55:42|2018-10-04|   10|Windows|    0|    0|\n",
            "+------+---------+------+-------------+------+-----+------+---------+-------------+---------+----+------+-------------+------+-----+-------------------+----------+-----+-------+-----+-----+\n",
            "only showing top 1 row\n",
            "\n"
          ]
        }
      ],
      "metadata": {
        "application/vnd.databricks.v1+cell": {
          "title": "Check user who downgraded the service",
          "showTitle": true,
          "inputWidgets": {},
          "nuid": "00be97dc-f43c-4f1a-90f3-539d8b530bb2"
        },
        "colab": {
          "base_uri": "https://localhost:8080/"
        },
        "id": "BZcbHxcb9vNn",
        "outputId": "b5f1a1c9-7f26-4311-cf76-fbff93062901"
      }
    },
    {
      "cell_type": "code",
      "execution_count": 19,
      "source": [
        "# Check the final columns\n",
        "df_clean.columns"
      ],
      "outputs": [
        {
          "output_type": "execute_result",
          "data": {
            "text/plain": [
              "['artist',\n",
              " 'auth',\n",
              " 'gender',\n",
              " 'itemInSession',\n",
              " 'length',\n",
              " 'level',\n",
              " 'method',\n",
              " 'page',\n",
              " 'registration',\n",
              " 'sessionId',\n",
              " 'song',\n",
              " 'status',\n",
              " 'ts',\n",
              " 'userId',\n",
              " 'state',\n",
              " 'epoch_time',\n",
              " 'date',\n",
              " 'month',\n",
              " 'agent',\n",
              " 'label',\n",
              " 'downgraded']"
            ]
          },
          "metadata": {},
          "execution_count": 19
        }
      ],
      "metadata": {
        "application/vnd.databricks.v1+cell": {
          "title": "",
          "showTitle": false,
          "inputWidgets": {},
          "nuid": "2093837f-06c8-433d-a5cd-839a8425fdc1"
        },
        "colab": {
          "base_uri": "https://localhost:8080/"
        },
        "id": "BC4Y6AlC9vNn",
        "outputId": "f7ddfb61-4128-4a7a-b777-a14be2b27394"
      }
    },
    {
      "cell_type": "code",
      "execution_count": 47,
      "source": [
        "#df_clean.write.csv(\"data003.csv\",header = 'true')"
      ],
      "outputs": [],
      "metadata": {
        "id": "Te13KKQubMuC"
      }
    },
    {
      "cell_type": "code",
      "execution_count": 7,
      "source": [
        "\n",
        "#df_clean = spark.read.csv('/content/drive/MyDrive/part-00000-ebf26255-3215-4e33-96b7-d420cc008d5d-c000.csv',header = 'true')"
      ],
      "outputs": [],
      "metadata": {
        "id": "njEE19sd37_D"
      }
    },
    {
      "cell_type": "markdown",
      "source": [
        "# EDA"
      ],
      "metadata": {
        "id": "Ro4i45EQIzC7"
      }
    },
    {
      "cell_type": "code",
      "execution_count": null,
      "source": [
        "plt.style.use('fivethirtyeight')\n"
      ],
      "outputs": [],
      "metadata": {
        "application/vnd.databricks.v1+cell": {
          "title": "EDA",
          "showTitle": true,
          "inputWidgets": {},
          "nuid": "e1d67ef9-1443-4e64-acc7-3a84ab98b652"
        },
        "id": "PfSjLrts9vNo"
      }
    },
    {
      "cell_type": "code",
      "execution_count": 10,
      "source": [
        "# Count the number of users who churned and stayed for the service in gender distribution\n",
        "# label = 1 means customer churned, label = 0 means customer stayed\n",
        "df_clean.groupBy(\"label\",\"gender\").agg(countDistinct('userId').alias('user_count')).sort(\"label\",\"gender\").show()\n"
      ],
      "outputs": [
        {
          "output_type": "stream",
          "name": "stdout",
          "text": [
            "+-----+------+----------+\n",
            "|label|gender|user_count|\n",
            "+-----+------+----------+\n",
            "|    0|     F|        41|\n",
            "|    0|     M|        36|\n",
            "|    1|     F|        10|\n",
            "|    1|     M|        13|\n",
            "+-----+------+----------+\n",
            "\n"
          ]
        }
      ],
      "metadata": {
        "application/vnd.databricks.v1+cell": {
          "title": "1. Gender distribution for churned and stayed customers",
          "showTitle": true,
          "inputWidgets": {},
          "nuid": "e173b8f2-03f3-4905-a4c4-954d08bdf932"
        },
        "colab": {
          "base_uri": "https://localhost:8080/"
        },
        "id": "qyCf1Y0a9vNo",
        "outputId": "4f73a7cb-bea2-4243-cff7-90a9221f6f50"
      }
    },
    {
      "cell_type": "code",
      "execution_count": 11,
      "source": [
        "# Plotting a bar plot to show gender distribution between stayed and churned users\n",
        "gender_pd = df_clean.drop_duplicates(['userId', 'gender']).groupby(['label', 'gender']).count().sort(\"label\").toPandas()\n",
        "\n",
        "plt.figure()\n",
        "plt.title('Gender distribution of stayed and churned users')\n",
        "p = sns.barplot(x = 'label', y = 'count',data = gender_pd, hue = 'gender')\n",
        "p.set_xlabel(\"Churn / Stay\", fontsize = 15)\n",
        "p.set_ylabel(\"Number of customer\", fontsize = 20)\n",
        "plt.show()\n"
      ],
      "outputs": [
        {
          "output_type": "display_data",
          "data": {
            "image/png": "[encoded data removed]",
            "text/plain": [
              "<Figure size 432x288 with 1 Axes>"
            ]
          },
          "metadata": {
            "needs_background": "light"
          }
        }
      ],
      "metadata": {
        "application/vnd.databricks.v1+cell": {
          "title": "",
          "showTitle": false,
          "inputWidgets": {},
          "nuid": "4dd5d0c1-143d-4596-988d-5c5c46ae71f7"
        },
        "colab": {
          "base_uri": "https://localhost:8080/",
          "height": 300
        },
        "id": "iOibE_G99vNo",
        "outputId": "334a97f7-c076-465f-eb0a-2590fe7f88a4"
      }
    },
    {
      "cell_type": "code",
      "execution_count": 24,
      "source": [
        "# Count the number of users who churned and stayed between different purchase level\n",
        "# label = 1 means customer churned, label = 0 means customer stayed\n",
        "# level = 'free' means customer did not purchase the service, level = 'paid' means customers who purchase the service \n",
        "df_clean.groupBy(\"label\",\"level\").agg(countDistinct('userId').alias('user_count')).sort(\"label\",\"level\").show()"
      ],
      "outputs": [
        {
          "output_type": "stream",
          "name": "stdout",
          "text": [
            "+-----+-----+----------+\n",
            "|label|level|user_count|\n",
            "+-----+-----+----------+\n",
            "|    0| free|       149|\n",
            "|    0| paid|       129|\n",
            "|    1| free|        46|\n",
            "|    1| paid|        36|\n",
            "+-----+-----+----------+\n",
            "\n"
          ]
        }
      ],
      "metadata": {
        "application/vnd.databricks.v1+cell": {
          "title": "2. Check the purchase condition for both churned and stayed customers",
          "showTitle": true,
          "inputWidgets": {},
          "nuid": "32a891b1-121c-4892-8548-21c1eda34cf5"
        },
        "colab": {
          "base_uri": "https://localhost:8080/"
        },
        "id": "WozhFSpb9vNo",
        "outputId": "1254c3a9-fa47-47de-cc07-49883aa74462"
      }
    },
    {
      "cell_type": "code",
      "execution_count": null,
      "source": [
        "# Plotting a bar plot to show level distribution between stayed and churned users\n",
        "level_pd = df_clean.drop_duplicates(['userId', 'level']).groupby(['label', 'level']).count().sort(\"label\").toPandas()\n",
        "\n",
        "plt.figure()\n",
        "plt.title('Level of stayed and churned users')\n",
        "p = sns.barplot(x = 'label', y = 'count',data = level_pd, hue = 'level')\n",
        "p.set_xlabel(\"Churn / Stay\", fontsize = 15)\n",
        "p.set_ylabel(\"Number of customer\", fontsize = 20)\n",
        "plt.show()"
      ],
      "outputs": [
        {
          "output_type": "display_data",
          "data": {
            "image/png": "[encoded data removed]"
          },
          "metadata": {
            "application/vnd.databricks.v1+output": {
              "datasetInfos": [],
              "data": "data:image/png;base64,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\n",
              "removedWidgets": [],
              "addedWidgets": {},
              "metadata": {},
              "type": "image",
              "arguments": {}
            }
          }
        }
      ],
      "metadata": {
        "application/vnd.databricks.v1+cell": {
          "title": "",
          "showTitle": false,
          "inputWidgets": {},
          "nuid": "1750f338-92e2-4329-adc8-dd132da827e4"
        },
        "id": "ehXuM6Al9vNo",
        "outputId": "e345e66a-e462-4516-989a-3f7c95666897"
      }
    },
    {
      "cell_type": "code",
      "execution_count": 25,
      "source": [
        "# Check the downgrade distribution between churned and stayed customers\n",
        "# label = 1 means customer churned, label = 0 means customer stayed\n",
        "df_clean.groupBy(\"label\",\"downgraded\").agg(countDistinct('userId').alias('user_count')).sort(\"label\",\"downgraded\").show()"
      ],
      "outputs": [
        {
          "output_type": "stream",
          "name": "stdout",
          "text": [
            "+-----+----------+----------+\n",
            "|label|downgraded|user_count|\n",
            "+-----+----------+----------+\n",
            "|    0|         0|        54|\n",
            "|    0|         1|       119|\n",
            "|    1|         0|        17|\n",
            "|    1|         1|        35|\n",
            "+-----+----------+----------+\n",
            "\n"
          ]
        }
      ],
      "metadata": {
        "application/vnd.databricks.v1+cell": {
          "title": "3. Check the downgrade condition for gender, service level, and both churned and stayed customers",
          "showTitle": true,
          "inputWidgets": {},
          "nuid": "3ddba1f0-ec91-4566-857b-6ce2573c1c70"
        },
        "colab": {
          "base_uri": "https://localhost:8080/"
        },
        "id": "iiofzkN99vNo",
        "outputId": "9501c99d-b30e-4e3f-a0a9-c14526eaa2ae"
      }
    },
    {
      "cell_type": "code",
      "execution_count": null,
      "source": [
        "# Plotting a bar plot to show downgrade condition between stayed and churned users\n",
        "downgrade_pd = df_clean.drop_duplicates(['userId', 'downgraded']).groupby(['label', 'downgraded']).count().sort(\"label\").toPandas()\n",
        "\n",
        "plt.figure()\n",
        "plt.title('Downgrade condition of stayed and churned users')\n",
        "p = sns.barplot(x = 'label', y = 'count',data = downgrade_pd, hue = 'downgraded')\n",
        "p.set_xlabel(\"Churn / Stay\", fontsize = 15)\n",
        "p.set_ylabel(\"Number of customer\", fontsize = 20)\n",
        "plt.show()"
      ],
      "outputs": [
        {
          "output_type": "display_data",
          "data": {
            "image/png": "[encoded data removed]"
          },
          "metadata": {
            "application/vnd.databricks.v1+output": {
              "datasetInfos": [],
              "data": "data:image/png;base64,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\n",
              "removedWidgets": [],
              "addedWidgets": {},
              "metadata": {},
              "type": "image",
              "arguments": {}
            }
          }
        }
      ],
      "metadata": {
        "application/vnd.databricks.v1+cell": {
          "title": "",
          "showTitle": false,
          "inputWidgets": {},
          "nuid": "a08c3a15-8aad-4593-a8e2-8e64eff8e65d"
        },
        "id": "sMEBf2me9vNo",
        "outputId": "8a534362-f5eb-4ed2-8d8c-3581dc2582e5"
      }
    },
    {
      "cell_type": "code",
      "execution_count": null,
      "source": [
        "# Plotting a bar plot to show downgrade condition between gender\n",
        "# downgrade = 1 means customer downgraded the service, downgrade = 0 means customer doesn't downgraded the service\n",
        "\n",
        "downgrade_gender = df_clean.drop_duplicates(['userId', 'gender']).groupby(['gender', 'downgraded']).count().sort(\"gender\").toPandas()\n",
        "\n",
        "plt.figure()\n",
        "plt.title('Downgrade condition between gender')\n",
        "p = sns.barplot(x = 'downgraded', y = 'count',data = downgrade_gender, hue = 'gender')\n",
        "p.set_xlabel(\"Downgrade\", fontsize = 15)\n",
        "p.set_ylabel(\"Number of customer\", fontsize = 20)\n",
        "plt.show()"
      ],
      "outputs": [
        {
          "output_type": "display_data",
          "data": {
            "image/png": "[encoded data removed]"
          },
          "metadata": {
            "application/vnd.databricks.v1+output": {
              "datasetInfos": [],
              "data": "data:image/png;base64,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\n",
              "removedWidgets": [],
              "addedWidgets": {},
              "metadata": {},
              "type": "image",
              "arguments": {}
            }
          }
        }
      ],
      "metadata": {
        "application/vnd.databricks.v1+cell": {
          "title": "",
          "showTitle": false,
          "inputWidgets": {},
          "nuid": "f449b8f5-f64a-4e8e-8410-57f3a9444ac6"
        },
        "id": "j6SKGKBy9vNo",
        "outputId": "d6157952-1c03-46a6-c12b-f08263008451"
      }
    },
    {
      "cell_type": "code",
      "execution_count": null,
      "source": [
        "# Plotting a bar plot to show downgrade condition between gender\n",
        "# downgrade = 1 means customer downgraded the service, downgrade = 0 means customer doesn't downgraded the service\n",
        "\n",
        "downgrade_level = df_clean.drop_duplicates(['userId', 'gender']).groupby(['level', 'downgraded']).count().sort(\"level\").toPandas()\n",
        "\n",
        "plt.figure()\n",
        "plt.title('Downgrade condition between level')\n",
        "p = sns.barplot(x = 'downgraded', y = 'count',data = downgrade_level, hue = 'level')\n",
        "p.set_xlabel(\"Downgrade\", fontsize = 15)\n",
        "p.set_ylabel(\"Number of customer\", fontsize = 20)\n",
        "plt.show()"
      ],
      "outputs": [
        {
          "output_type": "display_data",
          "data": {
            "image/png": "[encoded data removed]"
          },
          "metadata": {
            "application/vnd.databricks.v1+output": {
              "datasetInfos": [],
              "data": "data:image/png;base64,iVBORw0KGgoAAAANSUhEUgAAAbsAAAExCAYAAADlQgygAAAAOXRFWHRTb2Z0d2FyZQBNYXRwbG90bGliIHZlcnNpb24zLjQuMiwgaHR0cHM6Ly9tYXRwbG90bGliLm9yZy8rg+JYAAAACXBIWXMAAAsTAAALEwEAmpwYAABKH0lEQVR4nO3deXxM1//48dckQYgwQTaRRYglijT2hEqoJbZQ+1JaRdGP2teWKFVrY6kILWrf18RarZ1YQi1FFbGHiMhGhUTu7w+/zNeYJCbJZJG+n4+Hx8Oce+6d9713Mu+5555zriomJkZBCCGEyMeMcjsAIYQQIrtJshNCCJHvSbITQgiR70myE0IIke9JshNCCJHvSbITQgiR70myE3mSWq2mZcuWuR1GnnD79m3UajUDBgzQKh8wYABqtZrbt2/rva0jR46gVquZOnWqocPMtJT9k/Ods9L6XOVFLVu2RK1WZ2kbkuzeolartf5ZWlri7OyMp6cn/fv3Jzg4mMTExNwOU4hUpSSz9+ELLKdVrVo1y1+Y4v1lktsB5FWjR48G4NWrV8TFxXHt2jW2b9/OunXrcHFx4eeff+bDDz/M5SjFf5mfnx9Dhw6ldOnSeq9To0YNTp06RcmSJbMxMiHyHkl2aRg7dqxOWUxMDJMnT2bJkiW0bduWP/74g/Lly+dCdEKAjY0NNjY2GVqnSJEiVKhQIZsiEiLvkmbMDFCr1fz444906tSJ2NhY/Pz8dOrEx8fz/fffU6tWLaytrXFwcKB169bs3LlTq97Tp0+xtLSkcePGWuVJSUk4ODigVqtZtGiR1rKgoCBNDClS7tscOXKE7du306hRI2xtbXFycqJ3796Eh4enui9nz56lXbt2lClTBnt7e3x9fTl16hRTp07VbO/tfa9atSqxsbGMGTOGDz74gJIlS7JgwQIArl+/zsSJE/Hy8qJcuXJYWVnxwQcfMGjQIO7evZtqDC9fvmTGjBm4ublhZWVFtWrV+P7773nx4kUaZwCSk5NZsWIFzZo1w8HBAWtra+rVq4e/vz8vX75Mc73UPH/+nHnz5uHt7U2ZMmUoXbo0NWvWZPjw4ToxP3r0iFGjRlG9enWsrKwoW7YsnTt35tixYzrbfbMp8fbt2/Tu3RtnZ2esra3x8vJiz549qcYTHx/PuHHjcHV1xdramlq1ajF//nwUJfUZ/d6+Zzd16lRat24NwNq1a7Wa41evXq0VW2r37G7dusXAgQNxdXXF0tISFxcXPvvsM/766y+duqtXr9Zs58KFC3Tq1AkHBwdsbW1p0aIFJ0+eTOfIpy08PJy+fftSrlw5bGxs8PLyYsuWLWnWP3z4MF26dKFcuXJYWlrywQcfMHz4cCIiIjR1Uu5NpZzTN49Lyn3CJk2aUKpUKeLj47W237FjR9RqNZ9++qlW+ZMnT7CwsKBdu3Y6MW3fvh1fX1+cnJywsrLC3d2diRMnEhcXl+o+REREMGbMGNzd3bG2tsbR0ZF27dpx6NAhnbrZddzflpCQwE8//UTDhg2xs7OjdOnSeHl5sXTpUq3P4+nTp1Gr1XTu3DnNbXl5eWFhYcGtW7e0yvU5d4YkV3aZMHbsWDZs2MCePXuIi4ujWLFiAMTGxuLj48Ply5epVq0a/fv3JzY2lm3bttG9e3fGjh2raR4tWrQoNWrU4PTp08TExGjuJZw9e1bzR3Hw4EG+/PJLzfsePnwYgIYNG+rEtGTJEnbv3o2Pjw+enp6EhoayZcsW/vrrL44cOUKhQoU0dY8dO8Ynn3xCUlISrVu3xtnZmUuXLtG6dWs++uijNPf75cuXtGnThtjYWJo0aULhwoWxs7MDIDg4mKVLl9KgQQNq165NwYIF+fvvv1m1ahV79uzh4MGDmroAiqLw2WefsWvXLpycnOjbty+JiYmsXr2aS5cupfr+SUlJ9OjRgz179lC+fHnat29PoUKFOHbsGJMmTeLQoUNs3rwZE5N3f6xjYmJo3bo1Fy9epHz58nTr1g1TU1Nu3brFxo0b8fb2xt7eHoA7d+7g4+PD/fv38fT05JNPPuHhw4ds27aNffv28dNPP9G9e3ed97h79y6NGzfGycmJzp07Ex0dzdatW+nWrRvbtm3TOtYvXrzA19eXs2fP4urqSseOHYmLi2PWrFmpJtTU1K9fnzt37rB27Vo++OADrQ4fVatWTXfdc+fO4evrS1xcHE2bNqVKlSrcvHmT4OBg9uzZw5o1a2jUqFGq682bN49atWrRs2dP7t27R1BQEL6+vhw5cgQXFxe9YofX56RZs2ao1Wp69OhBTEwMW7dupXfv3jx48ICvvvpKq/6cOXOYOHEiFhYWNG3aFGtray5duqT5W9i3bx92dnYUL16c0aNHExgYSFxcnOZvEMDBwQF4/Td1+vRpjh49io+PDwCJiYkcP34ceP0jITk5GSOj19cHhw8fRlEUnb/F4cOHs2TJEuzs7GjVqhVqtZrQ0FDmzJnDb7/9xt69ezE3N9fUv3TpEu3atSMyMpJGjRrRokULnjx5ws6dO2nbti3z5s3TSbSGPu5vi4+Pp23btpw5c4Zq1arRrVs3AP744w+GDRvG6dOnCQwMBKBWrVpUqFCBP/74g8jISCwtLbW2deXKFc6dO4enpydOTk6acn3PnUHFxMQo8u///gEK8M56dnZ2CqAEBQVpynr37q0ASvfu3ZXo6GhN+aVLlxRra2tFpVIp+/fv15SPGjVKAZRVq1Zpyr755hsFULy9vZVixYopUVFRmmUuLi46ZV27dlUAxdzcXDl27JhWjB06dFAA5ddff9WUPXnyRHF2dlYAZe3atVr1/f39NfsfHByc6nHx8vJSwsPDdY7H5cuXlYiICJ3yLVu2KEZGRsrnn3+uVf7LL78ogOLu7q48ePBAU37r1i2lXLlyCqB4enpqrZNybPr27at1DJ48eaL06tVLAZTp06frdZ5Tjk3Pnj2VJ0+eaC0LDw9Xbt68qXn98ccfK4AyZswYrXrHjh1TChcurBQqVEi5dOmSpjw4OFhzvN5eZ/PmzQqgNGnSRKt8/PjxCqC0aNFCK54LFy4oJUqUUACla9euWuuknPvz58/rvPfbdd9ePnr0aE1ZdHS0UqlSJQVQFixYoFV/27ZtikqlUkqVKqV13gMCAjT7GBAQoLXO7NmzFUD54osv9DoX58+f12yrXbt2Wvv/559/KsWKFVMKFiyoXLhwQVO+c+dORaVSKbVq1VJu3bqltb2FCxcqgNK6dWutcnt7+zT/toOCghRA6d+/v6Zs9+7dmr9FQDlw4IBm2eeff65TtmjRIgVQWrVqpfWZfvOz+9VXX2nKoqKilPLlyyuFChVSduzYoVX/77//Vuzs7JTChQsr165dy9bj/vZn5dNPP1UAZeLEiVrlERERStOmTXW+OyZOnKgAypQpU3Te4+uvv9aJNTPnztPTU6/v5fT+STNmJtna2gIQFRUFvP4VuG7dOooUKcKkSZNQqVSaunZ2dgwbNgxFUVixYoWmPOVX4ZvNFYcOHaJSpUp06tSJuLg4zp49C7xu3rl27Rqenp4YGxvrxPPll19SpUoVrbKePXsCcObMGU3ZyZMnCQsLo169eppfsCk+++yzd96DnDx5MkWKFNEpL126tNbVY4pGjRpRqVIl9u/fr1We0qw2fvx4ChcurClXq9WMGDFCZzvJycksXLgQS0tLpk6dqnUMjIyM+O6771CpVKxfvz7d+AEiIyPZsmULVlZW/PDDD5pf6ymKFCmChYUF8Pq4//7775pz+KYqVarQu3dvXrx4ker72tvbM3LkSK2yxo0bU6ZMGa1zknI8VCoV3333nVY8Dg4OWlf32eHkyZP8/fffuLu7a37Fp/Dy8qJVq1Y8fvyYXbt26axbt25dnavaHj16YGJiorOP72JsbIyfn5/W/pctW5Y+ffrw8uVLNmzYoClfuHAhiqIwe/ZsnR6WXbp0oVq1auzatUunWTItderUoXDhwjp/iyqVivHjxwOvW1reXKZWq6levbqmbMGCBRgbG/PTTz9pfaYBhg0bRsmSJbX24bfffuP69et88cUX1K9fX6u+jY0NgwYN4vnz52zfvl0nXkMe9zdFR0ezdu1aqlWrxpAhQ7SWFSpUiAkTJgBofd47d+6MsbExa9eu1ar/6tUrNmzYgJmZGb6+vppyQ587fUkzZialtFunJLV//vmHf//9l5o1a6ba083LywuA8+fPa8pq1apFkSJFNH9Ez58/5/Tp0/Tq1UuTCA8ePEitWrU0f4SpNWECuLm56ZSVKVMGeN08lOLChQsA1KtXT6e+kZERtWvX5vr166m+h6mpKR988EGqyxRFYcOGDaxZs4a//vqLmJgYXr16pVlesGBBrfrnz59HpVLh4eGhsy1PT0+dsuvXrxMVFUXZsmWZOXNmqjEULlyYf/75J9Vlbzp79izJycnUrVuXokWLpls35XzVqVNHZx/g9XkNCAjQOq8pqlatmuoPkzJlynDq1CnN6/j4eMLCwrCxsUm1+Sm142FIKbGn1YTt5eVFcHAw58+fp0OHDlrLUvvcFShQACsrK63PnT7KlCmj1dSVwtPTE39/f81nF14naBMTE4KDgwkODtZZ5+XLl7x69YobN26kGuPbChUqRJ06dTh48CARERFYW1tz6NAhKleujLu7O87Ozhw8eJChQ4dy9+5dwsLCaNWqlSYx//vvv1y4cAELCwsWLlyY6nsULFiQBw8e8OTJE0qUKKG5v3bv3r1U76GGhYUBcPXqVZ1lhjzubzpz5gxJSUkYGRmlGlNSUhKA1t+Zra0t3t7e/P7771y4cIFq1aoBsH//fh4+fEjXrl21/s4Mfe70Jckukx4+fAhAqVKlADT32aysrFKtb21tDby+r5eiYMGC1KtXjz/++IPw8HCuXr3Kixcv8PLyonTp0lSoUIFDhw4xcuTIdya74sWL65SlfNG+mXRS4ny7bT1FWvGn7OubV6xvGjduHIGBgdjY2NC4cWNsbW0xNTUFYM2aNTodPlLudaZ2NZhaDE+ePAHg5s2bTJ8+Pc0Y9ZFyDlKuztOTmfOaIrVzAq/PS3Jyss57ZOacGEJ27eObnzt9pPX+KcflzQ4eT548ISkp6Z2fhadPn+r9/g0bNuTgwYMcOnSIli1bEhoaSt++fYHXCX/NmjUkJCSk+rcYExODoig8efJEr5hKlCih+UwHBQURFBSUZv1nz57plBnyuL8pJaZz585x7ty5NOu9fVy7d+/O77//rrkqBDRXem+3FmTHudOHJLtMuHHjBvfv38fExETzyyOlk8qjR49SXSelh1FKvRQNGzbkjz/+4ODBg1y9ehVjY2NNk0bDhg1ZsWIF//77L4cPH8ba2prKlStnKfaUm+ORkZGpLk8rfiDNRBcZGcmiRYtwdXXVuQEPsHnzZp11ihUrRkxMDC9evNBJeKnFkHLcmjdvzrp169KMUR8pXxQPHjx4Z93MnteMSFk3M+fEEHJiH/WR1vunHJc3379YsWIkJiam2dM3M95sTbGwsCAxMVFT1rBhQ5YuXcrJkydTTXYpsbm6umo6tbxLyjorVqygTZs2BtuPrEiJqV+/fsyYMUPv9Vq0aIFarWbTpk1MnjyZp0+fsmvXLhwdHXWaaLPj3OlD7tllQsovkhYtWmguzytUqECRIkW4fPmy5j7em1L+QN6+LE9pOjp06BCHDh3C3d1d84Fr2LAhL168YPny5YSHh6fbU1JfKb+6QkJCdJYlJydrNa/p69atWyQnJ+Pt7a2T6O7fv6/T5RigevXqKIqS6hdDar0PK1SoQPHixTl79myGhxi8rUaNGhgZGXHixIl3/npMOV4nT55M9X3TOq8ZYW5ujrOzMxEREak2IevbGxNSv5p/l5T7Tm8PN0lhiH3Ux71791Kd+ixl/1POBby+BRAfH8/Fixf13v67jk316tUpXrw4hw8f5tChQxQoUEDThPzRRx9hZGTEwYMHOXz4MLa2tlrjFYsWLYqrqyvXrl1L9e8/NbVq1QJS/1vMLTVr1sTIyCjDMRUqVIj27dsTGRnJb7/9xtatW0lISKBLly46P5Izc+4MQZJdBsTExDB8+HA2bNiAhYUFEydO1CwrUKAAnTt35t9//+W7777TGovy4MEDZs+ejUqlokePHlrbrFatGhYWFpr27jd/LdavXx9jY2P8/f2BtO+pZETdunUpW7YsISEh7N69W2vZsmXL0rxfl56U7tsnTpzQ+iJ5+vQpgwcP1rTzvynl5vrkyZN5/vy5pjwmJoZZs2bp1DcxMaF///48evSIESNG8O+//+rUiYqK0rqvk5ZSpUrRvn17Hj16xDfffKPVpAiv751GR0cDrzsXNW7cmPv37zN37lyteleuXGHp0qUUKlSITp06vfN909O9e3cURWHChAla8dy5c0dnvGV6SpQoAbxOHPqqU6cOFStW5MyZMzodbQ4dOkRwcDAlS5akRYsWem8zM169esXEiRO19v/mzZssXryYAgUK0LFjR015yjCEIUOGcP/+fZ1tJSQk6HxhpxybtK4oUlpV7t27x/r166lRo4bmx6yFhQVVq1Zl1apVREREpPq3+NVXX5GYmMjAgQM1n583xcfHExoaqnndokULnJ2d+fXXX1Pt/AOv76emNC3mhFKlStG5c2cuXrzI1KlTU/3bvX//fqr3xlP+pteuXcvatWtRqVR07dpVp15mzp0hSDNmGlJuziYnJ2umCwsJCeH58+dUrFiRRYsW4ezsrLWOn58fISEhrFixggsXLuDl5aUZZxcdHc2oUaOoWbOm1jpGRkY0aNBA02b/ZrJTq9W4ublpeleldb8uI4yMjJg3bx4dOnSgR48etGnTRjPO7sCBAzRp0oR9+/bp9FBMj7W1Ne3bt2fz5s00aNAAb29v4uLiOHDgAKamplStWlXnV1yHDh3YsmULu3fvpl69erRs2ZLExESCg4Nxc3Pjxo0bOu8zcuRILl++zIoVK/jtt9/46KOPsLOz4/Hjx9y8eZMTJ07Qp08frSuAtMycOZMrV66wfPlyjh07RuPGjTE1NeXOnTvs37+fgIAAWrVqBYC/vz/NmzdnypQpHD58mFq1amnG2SUkJDBnzhxNZ6DM+t///sfOnTvZtWsXDRo04OOPPyYuLo6tW7dSr149nR8maXFxcaFMmTKEhIRoBmcbGxvj4+OTZucilUpFYGAgbdu2pX///mzdulUzzi4oKIiCBQuycOHCVHvhGlKVKlUIDQ3Fy8uLRo0aacYlxsXFMWXKFBwdHTV1P/roIyZPnoyfnx81atSgSZMmODk5kZCQwN27dzl+/DgODg4cPXpUs463tzdnz57l008/pWnTppiammJvb0+XLl00dRo2bMjOnTuJjIykd+/eWvF5eXlpfvCk9rfYvXt3zp8/z88//4ybmxuNGzfGwcGB2NhY7ty5w/Hjx/H29mbNmjXA6x/Iq1at4pNPPqFbt27UrFmT6tWrY2Zmxv3797lw4QLXrl3j8OHDmkSdE2bMmEFYWBjTp09n/fr1eHh4YG1trWl5OH36NFOmTNGZicfd3Z3KlSuze/dukpKSdMbWpcjMuTMESXZpSGmqLFCgAEWLFqV06dL4+vrSsmVLmjdvToECBXTWUavV7N27l7lz5xIUFMSCBQsoVKgQ1apV48svv0yzXb5hw4YEBQVRuHBhateurbPszJkzODk5aa6gsqpBgwbs3LmT77//nn379gGvm/aCg4PZuHEjgE5z5Lv89NNPODk5sWXLFhYvXkypUqXw8fFh3LhxqQ6KValULF++nNmzZ7NmzRp++eUXrK2t6datG6NGjdJ0iniTiYkJK1asYPPmzaxevZp9+/Zpbvbb29szbNiwdGdyeJNarea3335j4cKFbNmyhRUrVmBkZETp0qXp2LGjVpOdo6MjBw8eZNasWezZs4cTJ05gZmaGp6cnX3/9NQ0aNMjQsUpNoUKF2LZtG9OmTWPr1q0sXLgQBwcHhg8fTuvWrfVOdsbGxqxatYqJEyeyd+9e4uPjURSF0qVLp5ns4PUX1cGDB5k5cyYHDx7kjz/+oHjx4rRs2ZLhw4fr9QMiq9RqNRs2bGDixImsXLmSp0+fUqlSJb7++mvat2+vU3/QoEHUrVuXhQsXEhISwp49eyhatCi2trZ06tRJZ3aT4cOHExcXx+7du5k7d67mC/ntZJfa/1NepyS7tFpZZsyYQdOmTVmyZAlHjx4lOjqa4sWLU7p0afr06aPTm9XV1ZVjx44RGBjIrl27WLt2LYqiYG1tTaVKlRg0aFCWBohnhrm5OTt27GDlypVs3LiRHTt2kJCQgKWlJY6Ojvj5+aU6cwy87oySMlTj7Y4pb8rouTMEVUxMTOpzEYn/pGbNmhEaGsqdO3cwMzPL7XCEEMIg5J7df9Dz589THYuzevVqTp48SaNGjSTRCSHyFWnG/A968OABHh4eeHl54ezsTFJSEhcvXiQkJITixYvz/fff53aIQghhUNKM+R8UGxvL+PHjOXbsGBEREbx48QJra2saNmzIiBEjKFu2bG6HKIQQBiXJTgghRL4n9+yEEELke5LshBBC5HuS7IQQQuR7kuyEEELke5LshBBC5HuS7IQQQuR7kuyEEELke5LshBBC5HsyXZgQQuSgpKQknj17ltthvJfMzMwwMclc2pJkJ4QQOSQpKYn4+HjUarXOE7xF+hRFISYmBnNz80wlPGnGFEKIHPLs2TNJdJmkUqlQq9WZviqWZCeEEDlIEl3mZeXYSTOmEEIvVRacyu0Q3huXBtbO7RDEW+TKTgghRL4nyU4IIfKRAQMG0Llz5xx7v9u3b6NWq/nzzz9z7D0zQ+9kN336dNatW5edsQghhBDZQu9kN2vWLC5fvpydsQghhBDZQu9kZ2trS3x8fHbGIoQQwoAURWHu3Lm4ublhY2ODh4cH69ev1yxv2rQp33zzjdY6cXFx2NjYEBQUBMDLly/x8/PD1dUVW1tbvL29+eOPP3J0PwxB72TXqlUrDh48yPPnz7MzHiGEEAby/fffs3LlSmbNmsWJEycYOnQoQ4cOZe/evQB06tSJLVu2kJycrFknKCiIQoUK0axZMwC++uorjh07xi+//EJISAhdu3alS5cuXLx4MVf2KbP0TnZjx45FrVbTvXt3ac4UQog87tmzZwQEBDBv3jw+/vhjnJyc6NixIz179mTx4sUAfPLJJzx+/JgjR45o1tu4cSNt27alUKFC3Lx5k02bNvHrr7/i6emJk5MT/fr1o0mTJixbtiyX9ixz9B5nV79+fRITEzl//jz169fH1NSUUqVK6QzyU6lUnDt3ztBxCiGEyICrV6+SkJBAhw4dtL6nExMTcXBwAKBEiRI0btyYDRs20LBhQx48eMCRI0cYNWoUAOfPn0dRFOrWrau17RcvXvDRRx/l3M4YgN7JLjk5GRMTE8qUKaNVrihKuq+FEELkvJSmybVr12Jvb6+17M25JTt37szgwYP58ccf2bx5M3Z2dnh4eGi2oVKp2L9/PwUKFNDahqmpaTbvgWHpnezet/ZZIYT4L6tYsSKFChXi7t27NGzYMM16Pj4+DB48mL1797Jx40Y6duyouRKsVq0aiqIQERHx3l3JvU2mCxNCiHzI3NycQYMGMX78eBRFwdPTk6dPnxIaGoqRkRGfffYZ8PoKrXXr1sycOZO//vqLRYsWabZRvnx5OnXqxMCBA5kyZQrVq1cnOjqao0eP4ujoSJs2bXJp7zIu08kuJiaGp0+f6jRrCiGEyBu++eYbLC0tmT9/PsOHD8fc3JyqVasyePBgrXqdOnVi9erVVKtWjUqVKmktCwgIYNasWUyYMIHw8HAsLCxwd3enQYMGObkrWaaKiYnR+ybb06dPmTp1Khs3buTx48eoVCqioqIACA0NZfr06XzzzTe4ubllV7xCiFwiE0HrL62JoGNjYylevHgOR5O/ZPYY6j30IDY2lqZNm7JgwQJsbGyoWLGiVmcUV1dXQkJC2Lx5c4YCOHbsGF26dKFy5cqo1WpWr16ttVxRFKZOnUqlSpWwsbGhZcuWXLlyRatOTEwM/fr1w8HBAQcHB/r160dMTEyG4hBCCJF/6Z3sfvzxR65cucKCBQs4fPgwvr6+WsuLFCmCp6cnhw4dylAAz549w9XVlWnTplG4cGGd5XPnziUgIIDp06ezf/9+LC0tadeundZsLn369OHChQts2rSJTZs2ceHCBb788ssMxSGEECL/0jvZBQcH07hxY7p27ZpmHXt7ex48eJChAJo2bcqECRPw9fXFyEg7HEVRCAwMZMiQIfj6+uLq6kpgYCBPnz5l06ZNwOuxJL///jtz5syhdu3a1K5dm9mzZ7N3716uXbuWoViEEELkT3onu/DwcKpUqZJuHTMzM+Li4rIcVIrbt28TERFBo0aNNGWFCxfGw8ODkydPAnDq1CmKFi1KnTp1NHXq1q2LmZmZpo4QQoj/Nr17YxYtWpTIyMh069y+fZuSJUtmOagUERERAFhaWmqVW1paaq4gHz16RMmSJbVmCFCpVJQqVYpHjx6luW256hNCZJe0vl9MTU0pVKhQDkeTv8TFxaX63e7i4pLuenonO3d3d/bu3Ut8fDzm5uY6yx8+fMi+ffs0k4fmde86MEKIt+yT3pj6Suv7JTY29r2beSSvKVasmM6MMPrQuxmzf//+PHnyhE6dOnH16lWtZVevXuWzzz4jISHBoB1DrK2tAXSuKCMjI7GysgLAysqKqKgorZ6hiqLw+PFjTR0hhBD/bXonu8aNGzN69GhOnDhBvXr1mD17NgDOzs7Uq1ePkydP4ufnp3XvLKscHR2xtrbmwIEDmrKEhARCQkI071O7dm2ePn3KqVP/96vz1KlTPHv2zKCxCCGEeH9laAaVMWPG4OHhwaJFiwgNDeXJkyeoVCqaNGnCwIED051/LS1Pnz4lLCwMeD3p6L1797hw4QIWFhbY29szYMAA/P39cXFxoXz58syaNQszMzM6dOgAvJ7/7eOPP2bo0KHMmTMHgKFDh9KsWTNpqhRCCAFkcAaV7HDkyBFat26tU961a1cCAwNRFIVp06axbNkyYmJiqFGjBrNmzcLV1VVTNyYmhlGjRrF7927g9cSmM2bMQK1W59RuCJHvyQwq+stvM6gkJyczbNgwtm/fTnR0NMHBwbk2XVhmj2GuJzshxPtBkp3+MprscvrYphVfWvbs2cOnn37Kjh07cHJywsLCgoIFC2ZTdOnLbLLL1ETQKY98SExMTHV5ZnrKCCGEyJvCwsKwtrZOsx/Ey5cvcy356StDyW7btm3Mnj2bK1eukJSUlGqdNyeHFkII8X4bMGAAa9euBUCtVmNvb4+DgwMVK1akSJEirF27FgcHBw4cOMDff//NhAkTOH78OKampjRs2JAffvhB07MeYNWqVfz000/cunWLMmXK0Lt3bwYMGKAzg5ah6Z3sfvnlF0aPHo2JiQl16tTB1tZW62m3Qggh8p9p06Zhb2/P6tWr2b9/P8bGxvTq1YsNGzbQq1cvdu/ejaIoPHz4kBYtWvDpp58yefJkEhMTmTx5Mt26dWPfvn0YGRmxfPlyfvjhB2bMmEH16tW5cuUKgwcPpkCBAvTr1y9b90PvbLVgwQIsLS3Zu3cvTk5O2RiSEEKIvKJ48eKYm5tjZGSkdYXm4ODAlClTNK+nTJnCBx98wHfffacpW7RoEU5OTvz555/UqFGDmTNn8t1332keJODk5MTNmzdZsmRJ3kl2Dx48oGfPnpLohBBC6Dy39Pz58xw/fhw7Ozudujdv3sTR0ZF79+4xdOhQhg8frlmWlJSkNSlIdtE72dnZ2fHy5cvsjEUIIcR7wszMTOt1cnIyTZs25fvvv9epa2lpyfPnzwHw9/fPlQk/9E52Xbt2ZdmyZWnOjSmEEOK/q3r16mzduhV7e3sKFCigs9zc3BxbW1tu3ryZ7qPisove3V+GDh3Khx9+SNu2bTl69KjWw1OFEEL8t/Xp04e4uDg+//xzQkNDuXXrFgcPHmTw4MGafDF27FjmzZtHQEAA165d4/Lly6xduxZ/f/9sj0/vKztjY2P69OnDZ599Rps2bdKsJ0MPhBDiv8fW1pa9e/fy3Xff0b59e168eEGZMmXw9vbWPNaoZ8+eFClShHnz5jFp0iRMTU2pXLkyffv2zfb49J5BZefOnfTq1YtXr17h6OiIra0txsbGqdbdsWOHQYMUQuQ+mUFFf/lturC8JNtnUJk2bRpFihRh/fr11KtXL8NvJIQQQuQWve/ZXb9+nfbt20uiE0II8d7RO9mVLFky1R42QgghRF6nd7Jr3bo1Bw8eTHPyZyGEECKv0jvZffvtt6jVanr16sXt27ezMyYhhBDCoPTuoOLh4UFSUhKhoaHs2bOH4sWLU6xYMZ16KpWKc+fOGTJGIYQQIkv0TnbJyckYGxtTpkwZTVlq85nlxBxnQgghREbonewuXryYnXEIIYQQ2SZ7n5YnhBBC5AGZTnbx8fHcu3ePuLg4Q8YjhBAin7l9+zZqtZo///wzzTp//vknarU62zpAZuhR40lJSfz000+sWLFCKyBHR0d69uzJoEGD5OnlQgiRQfFDc/YpAOaz1+bo+5UpU4arV69SsmTJHH3fN+mdmV6+fEn79u05duwYKpUKOzs7bGxsePjwIXfu3GHy5Mn8/vvvbN26lYIFC2ZnzEIIId4jxsbGWk85zw16N2MGBARw9OhRmjZtyqlTp7h48SL79u3j4sWLhIaG0rx5c0JCQggICMjOeIUQQuSwli1bMnToUEaPHo2joyOOjo6MHz+e5ORkANavX4+3tzdlypShfPny9OrVi/DwcM36qTVj/v7779SqVQtra2t8fHy4fv16tu6D3slu48aNVK5cmTVr1lCuXDmtZWXLlmXVqlVUqlSJjRs3GjxIIYQQuWvjxo0kJyezb98+5syZw/Lly1mwYAHwuuVv7NixHD16lPXr1xMVFcUXX3yR5rbu3btH9+7d8fLy4siRI/Tr1w8/P79sjV/vZsybN2/Sr18/jIxSz49GRkY0adKEn3/+2WDBCSGEyBusra2ZMWMGKpWKChUqcP36dRYsWMD//vc/Pv30U009Jycn/P39qV27Nvfv38fOzk5nW0uXLqVMmTI625syZUq2xa/3lV2BAgV49uxZunX+/fdfmSxaCCHyoZo1a6JSqTSva9euTXh4OHFxcZw7d46uXbvywQcfaB7YCq+v4FJz9erVVLeXnfROdlWqVGH79u08fvw41eVRUVFs376dKlWqGCw4IYQQeZuiKLRv354iRYqwaNEi9u/fz6ZNm4DXzZt5hd7Jrl+/fjx+/JhGjRqxYsUKbt26xfPnz7l16xarVq2icePGPH78mH79+mVnvEIIIXLBmTNntKaDPH36NLa2tty8eZOoqCjGjx+Pp6cnFSpUIDIyMt1tVaxYMdXtZSe979m1a9eOixcvMnv2bIYMGaKzXFEUBg8eTLt27QwZnxBCiDzg4cOHjBkzhj59+nD58mXmzZvHyJEjKVOmDIUKFeKXX36hb9++XL16lR9++CHdbX3++efMnz9fa3u//vprtsafoRHgEyZMwMfHh5UrV3LhwgXi4uIoVqwY1apVo0ePHtne5iqEECJ3dOzYkeTkZBo3boxKpeLTTz9l4MCBGBsbExgYyKRJk1i8eDFVqlRhypQptG/fPs1t2dvbs3LlSr755huWLVuGm5sbfn5+2doyqIqJicnTjyl49eoVU6dOZcOGDURERGBtbU2nTp0YM2aMZrYWRVGYNm0ay5cvJyYmhho1ajBr1iwqV66cy9ELkX9UWXAqt0N4b1wamPoP/9jYWIoXL57D0WRdy5YtcXV1ZebMmbkdSqaPod737KZPn86xY8fSrXP8+HGmT5+e4SDSM2fOHBYvXsz06dM5deoU06ZN45dffsHf319TZ+7cuQQEBDB9+nT279+PpaUl7dq1Iz4+3qCxCCGEeD/pneymTZvG0aNH062THcnu1KlTNG/eHB8fHxwdHWnRogU+Pj6cOXMGeH1VFxgYyJAhQ/D19cXV1ZXAwECePn2q6REkhBDiv82gj/hJTExMc9B5ZtWtW5ejR4/yzz//APD3339z5MgRmjRpAryehiYiIoJGjRpp1ilcuDAeHh6cPHnSoLEIIcR/0c6dO/NEE2ZWGPQRBefPnzf4rNZDhgzh6dOn1KlTB2NjY5KSkhgxYgR9+vQBICIiAgBLS0ut9SwtLXnw4EGa27127ZpB4xRCiBRpfb+YmppSqFChHI4mf4mLi+PRo0c65S4uLumul26ya926tdbrNWvWpNqU+erVK+7fv8/du3fp0KGDPvHqbcuWLaxbt47FixdTqVIlLl68yJgxY3BwcKBnz56Z3u67DowQ4i37pIOKvtL6fomNjcXU1DSHo8lfihUrhr29fYbXSzfZvZnYVCoVd+7c4c6dOzr1jIyMKFGiBJ988sk7x1dk1IQJE/jf//6n6cZapUoV7t69y+zZs+nZs6fmsRGRkZFaByAyMhIrKyuDxiKEEFmlKIrWNFlCf28OQs+odJNddHS05v8WFhaMGTOG0aNHZ/rNMuPff//F2NhYq8zY2FjzaAlHR0esra05cOAA7u7uACQkJBASEsKkSZNyNFYhhEiPmZkZMTExqNVqSXgZpCgKMTExmJubZ2p9ve/ZBQQEULVq1Uy9SVY0b96cOXPm4OjoSKVKlbhw4QIBAQF06dIFeH3FOWDAAPz9/XFxcaF8+fLMmjULMzMzgzepCiFEVpiYmGBubk5cXFxuh/JeMjc314yvziiDDCqPiYmhQIECmJmZZXVTOuLj45kyZQo7duzg8ePHWFtb0759e0aNGqVp+04ZVL5s2TKtQeWurq4Gj0eI/yoZVK6/tAaVi9yjd7I7dOgQf/zxB8OGDUOtVgOv74v16tWLEydOYGJiQp8+fQx+z04IkTdIstOfJLu8R+9BcYsWLSI4OFiT6AC+/fZbQkJCKFu2LCVKlGDhwoVs3bo1O+IUQgghMk3vZPfXX39Rt25dzevnz58TFBSEt7c3Z86c4fTp09jZ2bF06dJsCVQIIYTILL2T3ePHj7G1tdW8Dg0NJSEhgW7dugGvbxw2b96c69evGz5KIYQQIgv0TnYFCxbk+fPnmtchISGoVCo8PDw0Zebm5lrDFYQQQoi8QO9k5+joyOHDhzWvg4KCKFeuHKVLl9aU3bt3z+DThQkhhBBZpXey69q1K5cvX6Zx48b4+Phw+fJlnXFsly5donz58gYPUgghhMgKvZPdF198Qfv27fnzzz85ceIEzZo1Y8iQIZrlly9f5vLly9SvXz874hRCCCEyLcODyuPi4lCpVDpTtkRFRREeHo6Dg8N7+SReIUT6ZJyd/mScXd6T4XlXihUrlmp5yZIl5X6dEEKIPMmwT1oVQggh8iC9r+yqV6+uVz2VSsW5c+cyG48QQghhcHonu+Tk5FQfSREbG6uZwdvW1jbTM1ILIYQQ2UXvzHTx4sU0l4WFhTF69GiePXvGli1bDBKYEEIIYSgGuWfn7OzMypUrefDgAdOnTzfEJoUQQgiDMVgHFVNTU7y9vdm0aZOhNimEEEIYhEF7YxobG/Po0SNDblIIIYTIMoMlu6ioKHbu3ImdnZ2hNimEEEIYhN4dVNK6F5eUlMT9+/fZtWsXcXFx+Pn5GSw4IYQQwhD0TnbTpk1Ld7m5uTkjRoxg8ODBWQ7qfSHTJ+lPpk8SQuQmvZNdcHBwquVGRkao1WoqVKggY+yEEELkSXpnJ3magRBCiPeVzI0phBAi39M72W3bto3WrVvz4MGDVJeHh4fTpk0bgoKCDBacEEIIYQh6J7sVK1YQGxuLra1tqstLly5NXFwcK1euNFhwQgghhCHonewuX77Mhx9+mG4dd3d3Ll26lOWghBBCCEPSO9lFR0djaWmZbp0SJUoQFRWV5aCEEEIIQ9I72ZUsWZIbN26kW+fGjRsUL148y0EJIYQQhqR3sqtTpw67d+/mn3/+SXX51atX2bVrF/Xq1TNYcEIIIYQh6J3sBg0aRFJSEs2bN2fhwoVcv36dZ8+ecf36dQIDA/Hx8eHVq1cMGjQoO+MVQgghMkzvQeXu7u78+OOPjBgxgnHjxjFu3Dit5cbGxvj7+1OzZk2DBymEEEJkRYYGlffq1YujR4/yxRdf4ObmRtmyZXFzc6NPnz4cPXqUnj17ZkuQDx8+pH///pQrVw5ra2vq1KnD0aNHNcsVRWHq1KlUqlQJGxsbWrZsyZUrV7IlFiGEEO+fDE9mWbFiRWbOnJkdsaQqJiaGZs2aUbduXTZs2EDJkiW5ffu2Vs/QuXPnEhAQQEBAAC4uLsyYMYN27dpx+vRpzM3NcyxWIYQQeVOen7l53rx52NjYsGjRIk2Zk5OT5v+KohAYGMiQIUPw9fUFIDAwEBcXFzZt2sTnn3+e0yELIYTIY/L83Jg7d+6kRo0afP7555QvX5769evz888/oygKALdv3yYiIoJGjRpp1ilcuDAeHh6cPHkyt8IWQgiRh+T5K7tbt26xZMkSBg4cyJAhQ7h48SKjR48GoF+/fkRERADoDHi3tLRMcx5PgGvXrmVf0EKHHG/xXyKf95zn4uKS7vI8n+ySk5P58MMPNU9Ar169OmFhYSxevJh+/fplervvOjB62ScPb9WXQY63yF3yedebfN7znjzfjGltbU3FihW1yipUqMC9e/c0ywEiIyO16kRGRmJlZZUzQQohhMjT8nyyq1u3LtevX9cqu379Ovb29gA4OjpibW3NgQMHNMsTEhIICQmhTp06ORqrEEKIvCnNZOfk5MTcuXM1r6dPn86xY8dyJKg3DRw4kNOnTzNr1izCwsLYtm0bP//8M3369AFApVIxYMAA5s6dS1BQEJcvX2bgwIGYmZnRoUOHHI9XCCFE3pNmsouNjSUhIUHzetq0aVoDuXOKu7s7q1evZuvWrdSrV4/Jkyczbtw4TbIDGDx4MAMGDGDkyJF4e3vz8OFDtmzZImPshBBCAOl0ULGysiI8PDwnY0lTs2bNaNasWZrLVSoVY8eOZezYsTkYlRBCiPdFmsmuZs2arF+/HmNjY00nEH2u7FQqFaNGjTJchEIIIUQWqWJiYpTUFoSFhdGtWzeuXr2asQ2qVDx58sQgweV1VRZIV2x9XRpYO7dDEFkkn3f9yec970nzys7Z2Znjx49z+/ZtwsPDadWqFd26daNr1645GZ8QQgiRZekOKjcyMqJs2bKULVsWAAcHB+rXr58jgQkhhBCGovcMKtHR0dkZhxBCCJFtMjVd2P3797lw4QKxsbEUK1aM6tWrY2dnZ+jYhBBCCIPIULK7c+cOQ4cO1ZqtJIW3tzf+/v44OjoaLDghhBDCEPROdhEREfj4+BAeHo6DgwMeHh7Y2Njw8OFDQkJC2L9/Pz4+Phw4cEAzVEEIIYTIC/ROdjNnziQ8PJzvvvuOr776CmNjY82yV69esWDBAiZMmMCsWbNy9EnmQgghxLvoPRH03r17adSoEV9//bVWogMwNjZm0KBBNGrUiD179hg8SCGEECIr9E52jx49ws3NLd06bm5uPHr0KKsxCSGEEAald7IrVqwYd+/eTbfO3bt3KVasWJaDEkIIIQxJ72RXt25dtm/fzsmTJ1NdHhoayvbt26lbt67BghNCCCEMQe8OKsOHD+e3336jZcuWfPLJJzRo0AAbGxsiIiI4evQomzdvxsjIiOHDh2dnvEIIIUSG6Z3s3NzcWL58OQMGDGDjxo1s2rRJs0xRFCwsLJg/f/477+sJIYQQOS1Dg8qbN2/OX3/9xa5duzh//jxxcXEUK1aMatWq0bJlS8zMzLIrTiGEECLTMjxdmJmZGR07dqRjx47ZEY8QQghhcHp3UBFCCCHeV5LshBBC5HuS7IQQQuR7kuyEEELke5LshBBC5HuS7IQQQuR7eie71q1b8/3332dnLEIIIUS20HucXWhoKLVq1crOWIQQIl+IH9o1t0N4b5jPXpsj76P3lZ2zszP37t3LzliEEEKIbKF3suvZsye//fbbOx/zI4QQQuQ1ejdjNm/enAMHDtC8eXMGDx6Mu7s7VlZWqFQqnbr29vYGDVIIIYTIigw99UClUqEoCmPGjEmznkqlIioqyiDBCSGEEIagd7Lr0qVLqldxOc3f359JkybRt29fZs6cCbx+xNC0adNYvnw5MTEx1KhRg1mzZlG5cuVcjlYIIUReoHeyCwwMzM449HL69GmWLVtGlSpVtMrnzp1LQEAAAQEBuLi4MGPGDNq1a8fp06cxNzfPpWiFEELkFe/NoPLY2Fj69u3L/PnzUavVmnJFUQgMDGTIkCH4+vri6upKYGAgT58+1XrArBBCiP+uTCW7f/75h+DgYNatW2foeNKUksw++ugjrfLbt28TERFBo0aNNGWFCxfGw8ODkydP5lh8Qggh8q4MJbsLFy7g5eVF3bp16dWrFwMHDtQsO3r0KLa2tuzevdvgQS5fvpywsDC+/fZbnWUREREAWFpaapVbWlry6NEjg8cihBDi/aP3Pbvr16/TqlUrkpOT6d+/Pzdu3GDfvn2a5Z6enlhYWLB9+3Z8fHwMFuC1a9eYNGkSe/bsoUCBAgbdrsg5cryFEKkx1HeDi4tLusv1TnbTp08nMTGRAwcOUKlSJaZNm6aV7FQqFbVq1eLPP//MfLSpOHXqFFFRUdStW1dT9urVK44fP87SpUs5ceIEAJGRkVrj+yIjI7Gyskpzu+86MHrZdyrr2/iPMMjxFrlLPu8iG+TUd4PezZiHDh2idevWVKpUKc06dnZ2PHjwwCCBpWjZsiXHjx/nyJEjmn8ffvgh7du358iRI5QvXx5ra2sOHDigWSchIYGQkBDq1Klj0FiEEEK8n/S+souJiaF06dLp1lEUhcTExCwH9Sa1Wq3V+xKgSJEiWFhY4OrqCsCAAQPw9/fHxcWF8uXLM2vWLMzMzOjQoYNBYxFCCPF+0jvZWVlZERYWlm6dv//+Gzs7uywHlVGDBw/m+fPnjBw5UjOofMuWLTLGTgghBJCBZNegQQM2b97MtWvXUm1jPXv2LIcOHaJPnz4GDTA1O3fu1HqtUqkYO3YsY8eOzfb3FkII8f7R+57dsGHDMDExoUWLFixZsoSHDx8CcOXKFZYsWUKXLl0oWrQogwYNyrZghRBCiMzQ+8rOxcWFFStW8MUXXzBy5Ejg9T06T09PFEWhePHirFy5Up54IIQQIs/RO9kBfPzxx5w/f561a9cSGhrKkydPKFasGDVr1qRHjx5YWFhkV5xCCCFEpmUo2cHr3pEDBgzIjliEEEKIbPHeTAQthBBCZFaGk92GDRto06YNTk5OlCxZEicnJ9q0acOGDRuyIz4hhBAiy/RuxkxMTKRnz57s3bsXRVEwNjamVKlSREVFceTIEY4ePcrWrVtZsWKFQeewFEIIIbJK7ys7f39/9uzZQ82aNQkODiYiIoKrV68SERFBUFAQNWrUYO/evcyZMycbwxVCCCEyTu9kt27dOpydndmxYwf169fH2NgYAGNjYxo0aMCOHTtwcnJizZo12RasEEIIkRl6J7vw8HBatGhBwYIFU11eqFAhWrRoYfCJoIUQQois0jvZ2djYvHOS58TERGxsbLIclBBCCGFIeie7jh07EhQURFxcXKrLY2JiCAoKomPHjgYLTgghhDAEvZPdqFGjcHNzo3HjxmzcuJH79++TmJjI/fv32bBhA02aNMHd3Z1Ro0ZlZ7xCCCFEhqU59MDCwgKVSqVTrigKX375ZarlN27cwMbGhqioKMNGKYQQQmRBmsnOw8Mj1WQnhBBCvG/STHZvPzNOCCGEeF/J3JhCCCHyPUl2Qggh8r0MP+Jn9+7dXLx4kfDw8FTH3alUKubPn2+Q4IQQQghD0DvZ3blzhy5duvD333+jKEqa9STZCSGEyGv0TnajR4/mypUr9OjRgy5dulC6dGnN/JhCCCFEXqZ3sjty5AiNGzfmp59+ys54hBBCCIPTu4OKiYkJrq6u2RmLEEIIkS30TnZ16tThypUr2RmLEEIIkS30Tnbjxo3j+PHjbN68OTvjEUIIIQxO73t21atXZ/v27XTq1Ilff/2V6tWrU6xYMZ16KpVKJoMWQgiRp+id7GJjY5k0aRLR0dEcO3aMY8eOpVpPkp0QQoi8Ru9kN27cOI4cOYKXlxedO3fG1tZWhh4IIYR4L+id7Pbu3UudOnXYunVrdsYjhBBCGJzeHVQSEhKoXbt2dsYihBBCZAu9k13VqlW5detWNoaSOn9/f7y9vbG3t6dcuXJ07tyZy5cva9VRFIWpU6dSqVIlbGxsaNmypQyTEEIIoaF3shs1ahR79uwhJCQkO+PRcfToUb744gv27t1LUFAQJiYmtG3blujoaE2duXPnEhAQwPTp09m/fz+Wlpa0a9eO+Pj4HI1VCCFE3qT3PbuHDx/SrFkz2rRpQ4cOHXBzc0t16AFA165dDRbgli1btF4vWrQIBwcHTpw4gY+PD4qiEBgYyJAhQ/D19QUgMDAQFxcXNm3axOeff26wWIQQQryf9E52AwcORKVSoSgK69atY926dahUKq06iqKgUqkMmuze9vTpU5KTk1Gr1QDcvn2biIgIGjVqpKlTuHBhPDw8OHnypCQ7IYQQ+ie7gICA7IxDb2PGjKFq1aqazjIREREAWFpaatWztLTkwYMHOR6fEEKIvEfvZNetW7fsjEMv48aN48SJE+zZsyfLY/yuXbtmoKiEPuR4CyFSY6jvBhcXl3SXZ/hJ5bll7NixbNmyheDgYJycnDTl1tbWAERGRmJvb68pj4yMxMrKKs3tvevA6GXfqaxv4z/CIMdb5C75vItskFPfDXr3xsxNo0ePZvPmzQQFBVGhQgWtZY6OjlhbW3PgwAFNWUJCAiEhIdSpUyenQxVCCJEHZWgiaH2oVCrOnTuX2Xh0jBgxgvXr17Nq1SrUarXmHp2ZmRlFixZFpVIxYMAA/P39cXFxoXz58syaNQszMzM6dOhgsDiEEEK8v/ROdsnJyTq9L+H1BNFxcXEA2NraYmJi2JbRxYsXA2iGFaQYPXo0Y8eOBWDw4ME8f/6ckSNHEhMTQ40aNdiyZQvm5uYGjUUIIcT7Se/MdPHixTSXhYWFMXr0aJ49e6YzLi6rYmJi3llHpVIxduxYTfITQggh3mSQe3bOzs6sXLmSBw8eMH36dENsUgghhDAYg3VQMTU1xdvbm02bNhlqk0IIIYRBGLQ3prGxMY8ePTLkJoUQQogsM1iyi4qKYufOndjZ2Rlqk0IIIYRB6N1BJa17cUlJSdy/f59du3YRFxeHn5+fwYITQgghDEHvZDdt2rR0l5ubmzNixAgGDx6c5aCEEEIIQ9I72QUHB6dabmRkhFqtpkKFCgYfYyeEEEIYgt7ZqX79+tkZhxBCCJFt3ou5MYUQQoisSPfKLjk5OVMbNTKSHCqEECLvSDfZlSpVKsMbVKlUREVFZTogIYQQwtDSTXZ2dnapTv6cmmfPnvHkyRODBCWEEEIYUrrJLr3Jn1MkJiayaNEifvzxRwAcHBwME5kQQghhIFm6ubZt2zZq167NhAkTUBSFSZMmceqUPM1YCCFE3pKpgXEnT55k/PjxhIaGYmJiwpdffsno0aNRq9UGDk8IIYTIugwlu5s3b+Ln58eOHTtQFAVfX1/8/PwoW7ZsdsUnhBBCZJleyS46Oppp06axbNkyXr58Se3atfn++++pVatWdscnhBBCZFm6ye7ly5cEBgYye/ZsYmNjKVu2LH5+fvj6+uZUfEIIIUSWpZvsatasyb1797CwsGDq1Kn07dsXY2PjnIpNCCGEMIh0k93du3dRqVQoisL8+fOZP3++Xhv966+/DBKcEEIIYQjvvGenKArR0dFER0fnRDxCCCGEwaWb7CTBCSGEyA9kxmYhhBD5niQ7IYQQ+Z4kOyGEEPmeJDshhBD5niQ7IYQQ+Z4kOyGEEPlepp56IERGxQ/tmtshvDfMZ6/N7RCEyHfkyk4IIUS+l6+S3eLFi6lWrRrW1tY0bNiQ48eP53ZIQggh8oB8k+y2bNnCmDFjGD58OIcPH6Z27dp07NiRu3fv5nZoQgghclm+SXYBAQF069aNXr16UbFiRWbOnIm1tTVLly7N7dCEEELkMlVMTIyS20Fk1cuXL7G1tWXJkiW0bdtWUz5ixAguX77Mrl27ci84IYQQuS5fXNlFRUXx6tUrLC0ttcotLS159OhRLkUlhBAir8gXyU4IIYRIT75IdiVLlsTY2JjIyEit8sjISKysrHIpKiGEEHlFvkh2BQsWxM3NjQMHDmiVHzhwgDp16uRSVEIIIfKKfDODyldffcWXX35JjRo1qFOnDkuXLuXhw4d8/vnnuR2aEEKIXJYvruwAPvnkE6ZOncrMmTNp0KABJ06cYMOGDTg4OOR2aP95Mthf/BccO3aMLl26ULlyZdRqNatXr87tkMQb8k2yA+jTpw8XL17k0aNHHDp0CE9Pz9wO6T9PBvuL/4pnz57h6urKtGnTKFy4cG6HI96SL8bZibyrcePGVKlShXnz5mnK3N3d8fX1xc/PLxcjEyL72NnZMWPGDLp3757boYj/L19d2Ym85eXLl5w7d45GjRpplTdq1IiTJ0/mUlRCiP8iSXYi28hgfyFEXiHJTgghRL4nyU5kGxnsL4TIKyTZiWwjg/2FEHlFvhlULvImGewv/iuePn1KWFgYAMnJydy7d48LFy5gYWGBvb19LkcnZOiByHaLFy9m7ty5REREULlyZX744QcZAynynSNHjtC6dWud8q5duxIYGJgLEYk3SbITQgiR78k9OyGEEPmeJDshhBD5niQ7IYQQ+Z4kOyGEEPmeJDshhBD5niQ7IYQQ+Z4kOyEyYerUqajVatRqNRYWFjg6OuLt7c3kyZOJiIjI7fBy3c8//4xarc7tMITQkBlUhMikYsWKsXnzZgDi4uI4f/48S5cuZdmyZWzevBk3N7fcDVAIoSHJTohMMjExoVatWprXjRs3pnfv3rRo0YLevXtz+vRpjI2NczHCzEtISMDU1DS3wxDCYKQZUwgDUqvVTJo0ibCwMM0E2FFRUfTv35+yZctia2tLy5Yt+fPPPzXr/PDDD9SoUUPz+tmzZ5QqVYqPPvpIUxYVFYWFhYVmmwMGDMDLy4sDBw7g4eFB6dKlad68OVeuXNGKJyYmht69e1O6dGkqVarEnDlz+Pbbb6lataqmzurVq1Gr1Zw5c4aWLVtiY2OjebL8xIkT8fDwwM7ODldXV/r27avTTPvixQtGjhyJg4MDTk5OjB07lsTERJ1jEx0dzeDBg3FxccHa2pqmTZsSGhqa2UMtRIZIshPCwOrXr4+JiQmnT58GoHv37uzfv5/JkyezdOlSkpOTad26tWbSYA8PD27cuKF5oO2pU6cwMTHhr7/+Ii4uDoDjx49jZGSkdSV57949xo8fz4gRI1i8eDGRkZH07t0bRfm/GQAHDBjAgQMHmDZtGnPmzGH//v1s3bo11bi/+OILmjdvzoYNG2jWrBnw+nFMw4YNY/369UydOpVbt27Rpk0bkpOTNetNnDiRFStWMHLkSH755Rfu3r1LQECA1rZfvHiBr68vBw8eZNKkSaxevZqSJUvStm1buccpcoQ0YwphYKamppQsWZLIyEh+//13Tpw4wY4dO6hfvz4AH330EdWqVWPevHnMmTOHWrVqYWJiQkhICL6+vhw/fpwmTZpw+vRpTp06xccff0xISAjVqlWjaNGimveJjo5m7969lCtXDng9036PHj24du0aFSpU4PLly+zevZtly5bRtm1bABo2bEiVKlUwMzPTifvLL79kwIABWmVvJq1Xr15Rq1YtXF1dCQkJwdPTkydPnvDrr78yduxYBg0aBLxuzn37EU7r16/nypUrnDhxQhOvl5cXNWvWZP78+UyePDmLR12I9MmVnRDZIOXq6syZM1haWmoSHYCZmRnNmjXjxIkTmtfVq1fn+PHjwOurOA8PD+rVq0dISIimrF69elrv4eDgoEkcAJUqVQIgPDwcQNNU2rx5c02dwoUL4+XllWrMKVdzb9q3bx9NmzbFwcGBkiVL4urqCsCNGzcAuHTpEgkJCbRo0UKzjpGRkdZrgEOHDuHm5oajoyNJSUkkJSUB4OnpqdWkK0R2kSs7IQwsISGBJ0+eYGlpSUREBJaWljp1rKysiI6O1ryuV68ehw8f5uXLl5w5c4YpU6ZgbGzM1q1biY+P5+LFiwwfPlxrG8WLF9d6XaBAAc37Azx69Ahzc3OdjiYlS5ZMNe634zx79ixdu3alVatWDBkyBEtLS1QqFR9//LHWe6S2bqlSpbReR0VFcfr0aZ1ygLJly6YajxCGJMlOCAM7cuQISUlJ1K5dm9DQUCIjI3XqPHr0CAsLC83revXqsWDBAg4dOkTBggWpVq0axsbGjB8/niNHjvDq1SudK7t3sbKyIj4+XqdnZVRUVKr1VSqV1usdO3ZQqlQpfv31V82yO3fu6LwHvL639+b+PH78WKuehYUFH374If7+/jrvW7BgwQzslRCZI82YQhhQTEwMfn5+ODs7a+5JRUZGcuzYMU2df//9l99++426detqyjw8PFAUhdmzZ1OnTh2MjIyoUqUKpqamzJ8/nwoVKqR6VZSeDz/8EIDdu3dryp4/f67p0fkuz58/x8TERCsJbty4UatOSoy7du3SlCUnJ2u9htf3CsPCwihTpgwffvih1r8qVapkaL+EyAy5shMik5KSkjQ9Lp8+fcq5c+dYsmQJz58/Z/PmzRgbG2s6a/Tu3Rs/Pz9KlCjBTz/9REJCAl9//bVmWxYWFlSqVInjx4/j5+cHvL73VbduXfbu3UuvXr0yHJ+rqyvNmzdn2LBhxMfHY21tTUBAAEWKFMHI6N2/c729vQkMDGTMmDH4+Phw8uRJNmzYoFWnRIkS9OrVi6lTp2JsbEzlypVZvnw5z54906rXpUsXli5dSqtWrfjf//6Hk5MTT5484ezZs1hZWfHVV19leP+EyAhJdkJkUlxcHE2aNEGlUmFubo6zszOdO3emX79+WFtba+qtXr2ab775hrFjx/LixQvc3d0JCgrC2dlZa3v16tXjypUreHh4aJXt3btX6yowIwIDAxk2bBhjxozBzMyMPn364OTkxNmzZ9+5btOmTfnuu+/4+eefWbFiBbVq1WL9+vVaYwIBJk2aRFJSEjNnzkSlUtGpUycGDhzIt99+q6ljampKcHAwP/zwA9OmTePRo0dYWlri7u6Oj49PpvZNiIxQxcTEKO+uJoTID5KSkqhXrx41atRg4cKFuR2OEDlGruyEyMe2bdvGgwcPcHV1JT4+nhUrVnDjxg1JdOI/R5KdEPlYkSJFWL16NTdv3uTVq1e4urqybt06naZIIfI7acYUQgiR78nQAyGEEPmeJDshhBD5niQ7IYQQ+Z4kOyGEEPmeJDshhBD5niQ7IYQQ+d7/A1EjcNGMZOMCAAAAAElFTkSuQmCC\n",
              "removedWidgets": [],
              "addedWidgets": {},
              "metadata": {},
              "type": "image",
              "arguments": {}
            }
          }
        }
      ],
      "metadata": {
        "application/vnd.databricks.v1+cell": {
          "title": "",
          "showTitle": false,
          "inputWidgets": {},
          "nuid": "f9d132e5-4541-4c4f-8efc-95912ea14577"
        },
        "id": "3jjZiP3v9vNo",
        "outputId": "c705fd6e-fd94-4afc-9933-95a0efd27116"
      }
    },
    {
      "cell_type": "code",
      "execution_count": null,
      "source": [],
      "outputs": [],
      "metadata": {
        "id": "JJB8lBzO30v-"
      }
    },
    {
      "cell_type": "markdown",
      "source": [
        "# Feature Engineering"
      ],
      "metadata": {
        "id": "MmWLsIchI-91"
      }
    },
    {
      "cell_type": "code",
      "execution_count": 26,
      "source": [
        "df_clean.columns"
      ],
      "outputs": [
        {
          "output_type": "execute_result",
          "data": {
            "text/plain": [
              "['artist',\n",
              " 'auth',\n",
              " 'gender',\n",
              " 'itemInSession',\n",
              " 'length',\n",
              " 'level',\n",
              " 'method',\n",
              " 'page',\n",
              " 'registration',\n",
              " 'sessionId',\n",
              " 'song',\n",
              " 'status',\n",
              " 'ts',\n",
              " 'userId',\n",
              " 'state',\n",
              " 'epoch_time',\n",
              " 'date',\n",
              " 'month',\n",
              " 'agent',\n",
              " 'label',\n",
              " 'downgraded']"
            ]
          },
          "metadata": {},
          "execution_count": 26
        }
      ],
      "metadata": {
        "application/vnd.databricks.v1+cell": {
          "title": "Feature Engineering",
          "showTitle": true,
          "inputWidgets": {},
          "nuid": "895ebeb0-6270-43a6-9b5d-c6532ceb6782"
        },
        "colab": {
          "base_uri": "https://localhost:8080/"
        },
        "id": "xKaQFdHD9vNo",
        "outputId": "f41bfceb-92e1-41fe-e660-dd7c44d5fc4f"
      }
    },
    {
      "cell_type": "code",
      "execution_count": 27,
      "source": [
        "cancellation_df = df_clean.groupBy('userId').agg(max('ts').alias('lastinteraction'))\n",
        "df_clean = cancellation_df.join(df_clean, on='userId').withColumn('registered_days', ((col('lastinteraction')-col('registration'))/86400000).cast(IntegerType()))\n",
        "df_clean = df_clean.drop('lastinteraction','registration')\n",
        "df_clean.show(2)"
      ],
      "outputs": [
        {
          "output_type": "stream",
          "name": "stdout",
          "text": [
            "+------+-------------+---------+------+-------------+---------+-----+------+--------+---------+--------------------+------+-------------+-----+-------------------+----------+-----+-------+-----+----------+---------------+\n",
            "|userId|       artist|     auth|gender|itemInSession|   length|level|method|    page|sessionId|                song|status|           ts|state|         epoch_time|      date|month|  agent|label|downgraded|registered_days|\n",
            "+------+-------------+---------+------+-------------+---------+-----+------+--------+---------+--------------------+------+-------------+-----+-------------------+----------+-----+-------+-----+----------+---------------+\n",
            "|   100|  Evanescence|Logged In|     M|            0|237.11302| paid|   PUT|NextSong|      256|    Bring Me To Life|   200|1538492662000|   TX|2018-10-02 15:04:22|2018-10-02|   10|Windows|    0|         1|             64|\n",
            "|   100|Sheena Easton|Logged In|     M|            1|239.62077| paid|   PUT|NextSong|      256|Strut (1993 Digit...|   200|1538492899000|   TX|2018-10-02 15:08:19|2018-10-02|   10|Windows|    0|         1|             64|\n",
            "+------+-------------+---------+------+-------------+---------+-----+------+--------+---------+--------------------+------+-------------+-----+-------------------+----------+-----+-------+-----+----------+---------------+\n",
            "only showing top 2 rows\n",
            "\n"
          ]
        }
      ],
      "metadata": {
        "application/vnd.databricks.v1+cell": {
          "title": "Create Column 1 - Number of Registered Days",
          "showTitle": true,
          "inputWidgets": {},
          "nuid": "97351b0f-b5de-41ab-bcb7-03df400cc3bd"
        },
        "colab": {
          "base_uri": "https://localhost:8080/"
        },
        "id": "mnl-ZH9t9vNp",
        "outputId": "06d2ea60-84f2-4eb7-efa9-6256b06f6492"
      }
    },
    {
      "cell_type": "code",
      "execution_count": 28,
      "source": [
        "level_df = df_clean.orderBy('ts', ascending=False).groupBy('userId').agg(first('level').alias('level_preChurn'))    \n",
        "df_clean = df_clean.drop('level')\n",
        "df_clean = df_clean.join(level_df, on='userId')\n",
        "df_clean.show(2)"
      ],
      "outputs": [
        {
          "output_type": "stream",
          "name": "stdout",
          "text": [
            "+------+-------------+---------+------+-------------+---------+------+--------+---------+--------------------+------+-------------+-----+-------------------+----------+-----+-------+-----+----------+---------------+--------------+\n",
            "|userId|       artist|     auth|gender|itemInSession|   length|method|    page|sessionId|                song|status|           ts|state|         epoch_time|      date|month|  agent|label|downgraded|registered_days|level_preChurn|\n",
            "+------+-------------+---------+------+-------------+---------+------+--------+---------+--------------------+------+-------------+-----+-------------------+----------+-----+-------+-----+----------+---------------+--------------+\n",
            "|   100|  Evanescence|Logged In|     M|            0|237.11302|   PUT|NextSong|      256|    Bring Me To Life|   200|1538492662000|   TX|2018-10-02 15:04:22|2018-10-02|   10|Windows|    0|         1|             64|          paid|\n",
            "|   100|Sheena Easton|Logged In|     M|            1|239.62077|   PUT|NextSong|      256|Strut (1993 Digit...|   200|1538492899000|   TX|2018-10-02 15:08:19|2018-10-02|   10|Windows|    0|         1|             64|          paid|\n",
            "+------+-------------+---------+------+-------------+---------+------+--------+---------+--------------------+------+-------------+-----+-------------------+----------+-----+-------+-----+----------+---------------+--------------+\n",
            "only showing top 2 rows\n",
            "\n"
          ]
        }
      ],
      "metadata": {
        "application/vnd.databricks.v1+cell": {
          "title": "Create Column 2 - The latest level of service before customer churn",
          "showTitle": true,
          "inputWidgets": {},
          "nuid": "c40e74b6-6a94-4db4-9453-6a1e86e827af"
        },
        "colab": {
          "base_uri": "https://localhost:8080/"
        },
        "id": "-H-dAaSk9vNp",
        "outputId": "25ff4ca5-0e28-4504-a0c6-7636c8aab419"
      }
    },
    {
      "cell_type": "code",
      "execution_count": 29,
      "source": [
        "temp_daily_song = df_clean.groupBy('userId','date').agg(countDistinct('song').alias('songs')).sort('userId')\n",
        "daily_song = temp_daily_song.groupBy('userId').avg('songs').withColumnRenamed('avg(songs)', 'avg_daily_song')\n",
        "df_clean = df_clean.join(daily_song, on='userId')\n",
        "df_clean = df_clean.drop('song')\n",
        "df_clean.show(2)"
      ],
      "outputs": [
        {
          "output_type": "stream",
          "name": "stdout",
          "text": [
            "+------+-------------+---------+------+-------------+---------+------+--------+---------+------+-------------+-----+-------------------+----------+-----+-------+-----+----------+---------------+--------------+----------------+\n",
            "|userId|       artist|     auth|gender|itemInSession|   length|method|    page|sessionId|status|           ts|state|         epoch_time|      date|month|  agent|label|downgraded|registered_days|level_preChurn|  avg_daily_song|\n",
            "+------+-------------+---------+------+-------------+---------+------+--------+---------+------+-------------+-----+-------------------+----------+-----+-------+-----+----------+---------------+--------------+----------------+\n",
            "|   100|  Evanescence|Logged In|     M|            0|237.11302|   PUT|NextSong|      256|   200|1538492662000|   TX|2018-10-02 15:04:22|2018-10-02|   10|Windows|    0|         1|             64|          paid|79.9090909090909|\n",
            "|   100|Sheena Easton|Logged In|     M|            1|239.62077|   PUT|NextSong|      256|   200|1538492899000|   TX|2018-10-02 15:08:19|2018-10-02|   10|Windows|    0|         1|             64|          paid|79.9090909090909|\n",
            "+------+-------------+---------+------+-------------+---------+------+--------+---------+------+-------------+-----+-------------------+----------+-----+-------+-----+----------+---------------+--------------+----------------+\n",
            "only showing top 2 rows\n",
            "\n"
          ]
        }
      ],
      "metadata": {
        "application/vnd.databricks.v1+cell": {
          "title": "Create Column 3 - Average number of songs per day",
          "showTitle": true,
          "inputWidgets": {},
          "nuid": "e973b0a7-2bae-4dd1-9b78-fb75a692d459"
        },
        "colab": {
          "base_uri": "https://localhost:8080/"
        },
        "id": "Oj_0ToxT9vNp",
        "outputId": "67cedb89-1b56-427b-99ed-86f8a48985a6"
      }
    },
    {
      "cell_type": "code",
      "execution_count": 30,
      "source": [
        "daily_item_df = df_clean.groupby('userId','date').agg(max('itemInSession')).groupBy('userId').avg('max(itemInSession)').\\\n",
        "                                                            withColumnRenamed('avg(max(itemInSession))', 'avg_daily_items')\n",
        "df_clean = df_clean.join(daily_item_df, on='userId')\n",
        "df_clean = df_clean.drop('itemInSession')\n",
        "df_clean.show(2)"
      ],
      "outputs": [
        {
          "output_type": "stream",
          "name": "stdout",
          "text": [
            "+------+-------------+---------+------+---------+------+--------+---------+------+-------------+-----+-------------------+----------+-----+-------+-----+----------+---------------+--------------+----------------+------------------+\n",
            "|userId|       artist|     auth|gender|   length|method|    page|sessionId|status|           ts|state|         epoch_time|      date|month|  agent|label|downgraded|registered_days|level_preChurn|  avg_daily_song|   avg_daily_items|\n",
            "+------+-------------+---------+------+---------+------+--------+---------+------+-------------+-----+-------------------+----------+-----+-------+-----+----------+---------------+--------------+----------------+------------------+\n",
            "|   100|  Evanescence|Logged In|     M|237.11302|   PUT|NextSong|      256|   200|1538492662000|   TX|2018-10-02 15:04:22|2018-10-02|   10|Windows|    0|         1|             64|          paid|79.9090909090909|118.33333333333333|\n",
            "|   100|Sheena Easton|Logged In|     M|239.62077|   PUT|NextSong|      256|   200|1538492899000|   TX|2018-10-02 15:08:19|2018-10-02|   10|Windows|    0|         1|             64|          paid|79.9090909090909|118.33333333333333|\n",
            "+------+-------------+---------+------+---------+------+--------+---------+------+-------------+-----+-------------------+----------+-----+-------+-----+----------+---------------+--------------+----------------+------------------+\n",
            "only showing top 2 rows\n",
            "\n"
          ]
        }
      ],
      "metadata": {
        "application/vnd.databricks.v1+cell": {
          "title": "Create Column 4 - Daily average item per session",
          "showTitle": true,
          "inputWidgets": {},
          "nuid": "29134d4d-e43c-43c5-b62c-faa0035853d2"
        },
        "colab": {
          "base_uri": "https://localhost:8080/"
        },
        "id": "KYpj-cuw9vNp",
        "outputId": "009a6d6d-d125-4027-ae3c-f136fef00d8f"
      }
    },
    {
      "cell_type": "code",
      "execution_count": 31,
      "source": [
        "session_duration = df_clean.groupBy('userId','sessionId').agg(((max('ts')-min('ts'))/86400000).alias('activesession'))\n",
        "session_duration_df = session_duration.groupBy('userId').avg('activesession').withColumnRenamed('avg(activesession)', 'avg_session')\n",
        "df_clean = df_clean.join(session_duration_df, on='userId')\n",
        "df_clean = df_clean.drop('sessionId')\n",
        "df_clean.show(2)"
      ],
      "outputs": [
        {
          "output_type": "stream",
          "name": "stdout",
          "text": [
            "+------+-------------+---------+------+---------+------+--------+------+-------------+-----+-------------------+----------+-----+-------+-----+----------+---------------+--------------+----------------+------------------+-------------------+\n",
            "|userId|       artist|     auth|gender|   length|method|    page|status|           ts|state|         epoch_time|      date|month|  agent|label|downgraded|registered_days|level_preChurn|  avg_daily_song|   avg_daily_items|        avg_session|\n",
            "+------+-------------+---------+------+---------+------+--------+------+-------------+-----+-------------------+----------+-----+-------+-----+----------+---------------+--------------+----------------+------------------+-------------------+\n",
            "|   100|  Evanescence|Logged In|     M|237.11302|   PUT|NextSong|   200|1538492662000|   TX|2018-10-02 15:04:22|2018-10-02|   10|Windows|    0|         1|             64|          paid|79.9090909090909|118.33333333333333|0.21980489417989418|\n",
            "|   100|Sheena Easton|Logged In|     M|239.62077|   PUT|NextSong|   200|1538492899000|   TX|2018-10-02 15:08:19|2018-10-02|   10|Windows|    0|         1|             64|          paid|79.9090909090909|118.33333333333333|0.21980489417989418|\n",
            "+------+-------------+---------+------+---------+------+--------+------+-------------+-----+-------------------+----------+-----+-------+-----+----------+---------------+--------------+----------------+------------------+-------------------+\n",
            "only showing top 2 rows\n",
            "\n"
          ]
        }
      ],
      "metadata": {
        "application/vnd.databricks.v1+cell": {
          "title": "Create Column 5 - Average session duration",
          "showTitle": true,
          "inputWidgets": {},
          "nuid": "306c6b1a-4984-4f94-82c4-48ef71230ace"
        },
        "colab": {
          "base_uri": "https://localhost:8080/"
        },
        "id": "bGPGpJ9t9vNp",
        "outputId": "d9d5a3ce-7113-4785-83ce-aefdd7139e59"
      }
    },
    {
      "cell_type": "code",
      "execution_count": 26,
      "source": [
        "df_clean.columns"
      ],
      "outputs": [
        {
          "output_type": "execute_result",
          "data": {
            "text/plain": [
              "['userId',\n",
              " 'artist',\n",
              " 'auth',\n",
              " 'gender',\n",
              " 'length',\n",
              " 'method',\n",
              " 'page',\n",
              " 'status',\n",
              " 'ts',\n",
              " 'state',\n",
              " 'epoch_time',\n",
              " 'date',\n",
              " 'month',\n",
              " 'agent',\n",
              " 'label',\n",
              " 'downgraded',\n",
              " 'registered_days',\n",
              " 'level_preChurn',\n",
              " 'avg_daily_song',\n",
              " 'avg_daily_items',\n",
              " 'avg_session']"
            ]
          },
          "metadata": {},
          "execution_count": 26
        }
      ],
      "metadata": {
        "application/vnd.databricks.v1+cell": {
          "title": "",
          "showTitle": false,
          "inputWidgets": {},
          "nuid": "fa54cd8b-5527-4e6d-bc84-528b2a0325c9"
        },
        "colab": {
          "base_uri": "https://localhost:8080/"
        },
        "id": "SIGoxJtm9vNp",
        "outputId": "0b799fe9-2ef4-4211-942d-0a8b4c26d29e"
      }
    },
    {
      "cell_type": "code",
      "execution_count": 55,
      "source": [
        "df_model = df_clean.select(['userId','label','downgraded','gender','level_preChurn','agent','state',\\\n",
        "                            'registered_days','avg_daily_items','avg_session','avg_daily_song']).dropDuplicates(['userId'])\n",
        "\n",
        "df_model.show(n=5)"
      ],
      "outputs": [
        {
          "output_type": "stream",
          "name": "stdout",
          "text": [
            "+------+-----+----------+------+--------------+----------+-----+---------------+------------------+-------------------+-----------------+\n",
            "|userId|label|downgraded|gender|level_preChurn|     agent|state|registered_days|   avg_daily_items|        avg_session|   avg_daily_song|\n",
            "+------+-----+----------+------+--------------+----------+-----+---------------+------------------+-------------------+-----------------+\n",
            "|   100|    0|         1|     M|          paid|   Windows|   TX|             64|118.33333333333333|0.21980489417989418| 79.9090909090909|\n",
            "|100004|    0|         1|     F|          paid|compatible|   NY|            172| 76.42105263157895|0.12915729717813051|48.89473684210526|\n",
            "|100005|    1|         0|     M|          free| Macintosh|   LA|             85|              53.5|0.08346296296296296|             38.5|\n",
            "|100006|    1|         0|     F|          free|   Windows|   MI|              9|              45.0|0.06488425925925925|             26.0|\n",
            "|100007|    1|         1|     F|          paid|   Windows|   AR|            115|              58.0| 0.1315354938271605|46.77777777777778|\n",
            "+------+-----+----------+------+--------------+----------+-----+---------------+------------------+-------------------+-----------------+\n",
            "only showing top 5 rows\n",
            "\n"
          ]
        }
      ],
      "metadata": {
        "application/vnd.databricks.v1+cell": {
          "title": "",
          "showTitle": false,
          "inputWidgets": {},
          "nuid": "f84595af-e5e3-4608-a526-b46b9308d4cf"
        },
        "colab": {
          "base_uri": "https://localhost:8080/"
        },
        "id": "EF9kTILU9vNp",
        "outputId": "e75f2f38-0225-4dc1-db6d-cb91b19b5d58"
      }
    },
    {
      "cell_type": "markdown",
      "source": [
        "# Data Transformation"
      ],
      "metadata": {
        "id": "dB81aGBL7TSv"
      }
    },
    {
      "cell_type": "code",
      "execution_count": 56,
      "source": [
        "from pyspark.ml.feature import StandardScaler, StringIndexer, VectorAssembler\n",
        "from pyspark.ml import Pipeline\n",
        "indexers = [StringIndexer(inputCol=column, outputCol=column+\"_index\").fit(df_model) for column in ['gender','level_preChurn','agent','state'] ]\n",
        "pipeline = Pipeline(stages=indexers)\n",
        "df_r = pipeline.fit(df_model).transform(df_model)\n",
        "df_model = df_r.drop('gender','level_preChurn','agent','state','userId')\n",
        "df_model.show(1)"
      ],
      "outputs": [
        {
          "output_type": "stream",
          "name": "stdout",
          "text": [
            "+-----+----------+---------------+------------------+-------------------+----------------+------------+--------------------+-----------+-----------+\n",
            "|label|downgraded|registered_days|   avg_daily_items|        avg_session|  avg_daily_song|gender_index|level_preChurn_index|agent_index|state_index|\n",
            "+-----+----------+---------------+------------------+-------------------+----------------+------------+--------------------+-----------+-----------+\n",
            "|    0|         1|             64|118.33333333333333|0.21980489417989418|79.9090909090909|         0.0|                 0.0|        0.0|        1.0|\n",
            "+-----+----------+---------------+------------------+-------------------+----------------+------------+--------------------+-----------+-----------+\n",
            "only showing top 1 row\n",
            "\n"
          ]
        }
      ],
      "metadata": {
        "application/vnd.databricks.v1+cell": {
          "title": "Convert categorical columns with StringIndexer",
          "showTitle": true,
          "inputWidgets": {},
          "nuid": "8494ec09-b1d9-4d28-a03b-0f5df504c559"
        },
        "colab": {
          "base_uri": "https://localhost:8080/"
        },
        "id": "pNe54Nz39vNp",
        "outputId": "eb1da780-49a3-460d-84a3-7d173bb2d52d"
      }
    },
    {
      "cell_type": "code",
      "execution_count": 58,
      "source": [
        "from pyspark.sql.functions import isnan, when, count, col\n",
        "\n",
        "df_model.select([count(when(isnan(c), c)).alias(c) for c in df_model.columns]).toPandas().unstack()"
      ],
      "outputs": [
        {
          "output_type": "execute_result",
          "data": {
            "text/plain": [
              "label                 0    0\n",
              "downgraded            0    0\n",
              "registered_days       0    0\n",
              "avg_daily_items       0    0\n",
              "avg_session           0    0\n",
              "avg_daily_song        0    0\n",
              "gender_index          0    0\n",
              "level_preChurn_index  0    0\n",
              "agent_index           0    0\n",
              "state_index           0    0\n",
              "dtype: int64"
            ]
          },
          "metadata": {},
          "execution_count": 58
        }
      ],
      "metadata": {
        "colab": {
          "base_uri": "https://localhost:8080/"
        },
        "id": "aowvsn_gWfeY",
        "outputId": "6d092a61-97aa-4e22-bb30-abf3dadc85ed"
      }
    },
    {
      "cell_type": "code",
      "execution_count": 57,
      "source": [
        "df_model.columns"
      ],
      "outputs": [
        {
          "output_type": "execute_result",
          "data": {
            "text/plain": [
              "['label',\n",
              " 'downgraded',\n",
              " 'registered_days',\n",
              " 'avg_daily_items',\n",
              " 'avg_session',\n",
              " 'avg_daily_song',\n",
              " 'gender_index',\n",
              " 'level_preChurn_index',\n",
              " 'agent_index',\n",
              " 'state_index']"
            ]
          },
          "metadata": {},
          "execution_count": 57
        }
      ],
      "metadata": {
        "colab": {
          "base_uri": "https://localhost:8080/"
        },
        "id": "yeIxsjrdWQ_a",
        "outputId": "1fd3135f-347d-4c6e-e257-ad36b4717aa1"
      }
    },
    {
      "cell_type": "code",
      "execution_count": 59,
      "source": [
        "feature_columns = [col for col in df_model.columns if col!='label'] "
      ],
      "outputs": [],
      "metadata": {
        "id": "Dku6419YWMY0"
      }
    },
    {
      "cell_type": "code",
      "execution_count": 67,
      "source": [
        "feature_columns"
      ],
      "outputs": [
        {
          "output_type": "execute_result",
          "data": {
            "text/plain": [
              "['downgraded',\n",
              " 'registered_days',\n",
              " 'avg_daily_items',\n",
              " 'avg_session',\n",
              " 'avg_daily_song',\n",
              " 'gender_index',\n",
              " 'level_preChurn_index',\n",
              " 'agent_index',\n",
              " 'state_index']"
            ]
          },
          "metadata": {},
          "execution_count": 67
        }
      ],
      "metadata": {
        "colab": {
          "base_uri": "https://localhost:8080/"
        },
        "id": "Gfd88YSZYiPR",
        "outputId": "1c4a9844-240f-41c6-eaed-4419e7d2d515"
      }
    },
    {
      "cell_type": "markdown",
      "source": [
        "## Check Data Imbalance"
      ],
      "metadata": {
        "id": "qsTZPEfV81hv"
      }
    },
    {
      "cell_type": "code",
      "execution_count": 39,
      "source": [
        "m=df_model.groupBy('label').count().orderBy('count').show()"
      ],
      "outputs": [
        {
          "output_type": "stream",
          "name": "stdout",
          "text": [
            "+-----+-----+\n",
            "|label|count|\n",
            "+-----+-----+\n",
            "|    1|   52|\n",
            "|    0|  173|\n",
            "+-----+-----+\n",
            "\n"
          ]
        }
      ],
      "metadata": {
        "colab": {
          "base_uri": "https://localhost:8080/"
        },
        "id": "PQyZ-jQI95cS",
        "outputId": "616f21c1-141e-4f6e-d6be-ca6bfd741f62"
      }
    },
    {
      "cell_type": "markdown",
      "source": [
        "# Modeling"
      ],
      "metadata": {
        "id": "_fbWkCZ3T9MK"
      }
    },
    {
      "cell_type": "code",
      "execution_count": 60,
      "source": [
        "from pyspark.ml.feature import MinMaxScaler"
      ],
      "outputs": [],
      "metadata": {
        "id": "4G-ASVe-Xf9j"
      }
    },
    {
      "cell_type": "code",
      "execution_count": 64,
      "source": [
        "def create_CV_model(classifier,parameters,train):\n",
        "    '''\n",
        "    This function will create a cross validation object and return a trained model\n",
        "    \n",
        "    Input:\n",
        "    classifier: a spark ml classification algorithm\n",
        "    paramaters: parameter list to make grid search\n",
        "    \n",
        "    Output:\n",
        "    fit_model: cross validation fitted model object\n",
        "    '''\n",
        "    \n",
        "    assembler = VectorAssembler(inputCols=feature_columns, outputCol=\"features\")\n",
        "    scaler = MinMaxScaler(inputCol=\"features\", outputCol=\"scaled_features\")\n",
        "\n",
        "    pipeline = Pipeline(stages=[assembler, scaler, classifier])\n",
        "\n",
        "    model = CrossValidator(\n",
        "        estimator=pipeline,\n",
        "        estimatorParamMaps=parameters,\n",
        "        evaluator = MulticlassClassificationEvaluator(labelCol=\"label\",metricName='f1'),\n",
        "        numFolds=3)\n",
        "    fit_model = model.fit(train)\n",
        "    \n",
        "    return fit_model"
      ],
      "outputs": [],
      "metadata": {
        "id": "bzKcHzYGShDG"
      }
    },
    {
      "cell_type": "code",
      "execution_count": 65,
      "source": [
        "def evaluate_model(model,train,test):\n",
        "    '''\n",
        "    This function will evaluate fitted model\n",
        "    \n",
        "    Input:\n",
        "    model: fitted model after applying first function\n",
        "    train: train data for evaluation \n",
        "    test: test data for real validation\n",
        "    \n",
        "    Output: a dataframe to show result metrics\n",
        "    f1train: F1 Score for train data\n",
        "    f1test: F1 Score for test data\n",
        "    accuracy_train: Accuracy Score for train data\n",
        "    accuracy_test: Accuracy Score for test data\n",
        "    \n",
        "    '''\n",
        "    \n",
        "    pred = model.transform(train)\n",
        "    evaluator = MulticlassClassificationEvaluator(predictionCol=\"prediction\", labelCol=\"label\")\n",
        "    f1_train = evaluator.evaluate(pred, {evaluator.metricName: \"f1\"})\n",
        "    accuracy_train = evaluator.evaluate(pred, {evaluator.metricName: \"accuracy\"})\n",
        "    \n",
        "    pred = model.transform(test)\n",
        "    evaluator = MulticlassClassificationEvaluator(predictionCol=\"prediction\", labelCol=\"label\")\n",
        "    f1_test = evaluator.evaluate(pred, {evaluator.metricName: \"f1\"})\n",
        "    accuracy_test = evaluator.evaluate(pred, {evaluator.metricName: \"accuracy\"})\n",
        "    \n",
        "    df = pd.Series({'F1 Train': f1_train, \n",
        "               'Accuracy Train': accuracy_train,\n",
        "               'F1 Test': f1_test,\n",
        "               'Accuracy Test' :accuracy_test })\n",
        "    return df"
      ],
      "outputs": [],
      "metadata": {
        "id": "y1rzDe78Sh6N"
      }
    },
    {
      "cell_type": "markdown",
      "source": [
        "## Train-Test-Split"
      ],
      "metadata": {
        "id": "Jo49CKIqSmUv"
      }
    },
    {
      "cell_type": "code",
      "execution_count": 72,
      "source": [
        "train, validation = df_model.randomSplit([0.8, 0.2], seed=42)"
      ],
      "outputs": [],
      "metadata": {
        "id": "Y8J3u-Nq7lF0"
      }
    },
    {
      "cell_type": "markdown",
      "source": [
        "## Compute Class Weight"
      ],
      "metadata": {
        "id": "PRrfs4KZS1e_"
      }
    },
    {
      "cell_type": "code",
      "execution_count": 75,
      "source": [
        "dataset_size = float(train.select('label').count())\n",
        "numPositives = train.select('label').where('label == 1').count()\n",
        "numNegatives = float(dataset_size-numPositives)\n",
        "BalancingRatio= numNegatives/dataset_size\n",
        "# creating a new column named “classWeights” in the “rest” dataset\n",
        "train = train.withColumn(\"classWeights\", when(train.label == 1,BalancingRatio).otherwise(1-BalancingRatio))\n",
        "train.select(\"classWeights\").show(5)"
      ],
      "outputs": [
        {
          "output_type": "stream",
          "name": "stdout",
          "text": [
            "+------------------+\n",
            "|      classWeights|\n",
            "+------------------+\n",
            "|0.2606382978723404|\n",
            "|0.2606382978723404|\n",
            "|0.2606382978723404|\n",
            "|0.2606382978723404|\n",
            "|0.2606382978723404|\n",
            "+------------------+\n",
            "only showing top 5 rows\n",
            "\n"
          ]
        }
      ],
      "metadata": {
        "colab": {
          "base_uri": "https://localhost:8080/"
        },
        "id": "02h1pXft_h-4",
        "outputId": "278e0f15-0d8b-40a7-f774-72ebc42d2268"
      }
    },
    {
      "cell_type": "markdown",
      "source": [
        "\n",
        "\n",
        "---\n",
        "\n"
      ],
      "metadata": {
        "id": "HLGHhWzNSy6G"
      }
    },
    {
      "cell_type": "code",
      "execution_count": 45,
      "source": [
        "from pyspark.ml import Pipeline\n",
        "from pyspark.ml.classification import LogisticRegression,GBTClassifier, RandomForestClassifier\n",
        "from pyspark.ml.evaluation import BinaryClassificationEvaluator,MulticlassClassificationEvaluator\n",
        "from pyspark.ml.feature import StandardScaler, StringIndexer, VectorAssembler\n",
        "from pyspark.ml.tuning import CrossValidator, ParamGridBuilder\n"
      ],
      "outputs": [],
      "metadata": {
        "id": "vpimxRHZAMf3"
      }
    },
    {
      "cell_type": "markdown",
      "source": [
        "## Logistic Regression"
      ],
      "metadata": {
        "id": "3SOuwt2y_NkZ"
      }
    },
    {
      "cell_type": "code",
      "execution_count": 76,
      "source": [
        "# Train the model and evaluate performance on both train and test set\n",
        "classifier = LogisticRegression(labelCol=\"label\", featuresCol=\"scaled_features\",weightCol=\"classWeights\",maxIter=10)\n",
        "paramGrid=ParamGridBuilder().build()\n",
        "\n",
        "modelLR = create_CV_model(classifier,paramGrid, train)\n",
        "df_log = evaluate_model(modelLR,train,validation)\n",
        "df_log"
      ],
      "outputs": [
        {
          "output_type": "execute_result",
          "data": {
            "text/plain": [
              "F1 Train          0.711173\n",
              "Accuracy Train    0.696809\n",
              "F1 Test           0.749068\n",
              "Accuracy Test     0.675676\n",
              "dtype: float64"
            ]
          },
          "metadata": {},
          "execution_count": 76
        }
      ],
      "metadata": {
        "colab": {
          "base_uri": "https://localhost:8080/"
        },
        "id": "foIZi0NzaOCY",
        "outputId": "0c47b046-30a1-4d04-e769-c23786059954"
      }
    },
    {
      "cell_type": "markdown",
      "source": [
        "\n",
        "\n",
        "---\n",
        "\n"
      ],
      "metadata": {
        "id": "EX-Q8Itna_oZ"
      }
    },
    {
      "cell_type": "markdown",
      "source": [
        "## Random Forest"
      ],
      "metadata": {
        "id": "0cGEV8w2gvuJ"
      }
    },
    {
      "cell_type": "code",
      "execution_count": null,
      "source": [
        "# Train the model and evaluate performance\n",
        "classifier = RandomForestClassifier(labelCol=\"label\", featuresCol=\"scaled_features\",weightCol=\"classWeights\",maxIter=10)\n",
        "paramGrid=ParamGridBuilder().build()\n",
        "\n",
        "modelRF = create_CV_model(classifier,paramGrid, train)\n",
        "df_rf = evaluate_model(modelRF,train,validation)\n",
        "df_rf"
      ],
      "outputs": [],
      "metadata": {
        "id": "T4ysKNcXgyUY"
      }
    },
    {
      "cell_type": "markdown",
      "source": [
        "## Feature Importance"
      ],
      "metadata": {
        "id": "yPwXXv-gSG_b"
      }
    },
    {
      "cell_type": "code",
      "execution_count": 77,
      "source": [
        "modelLR.bestModel.stages[2].coefficients"
      ],
      "outputs": [
        {
          "output_type": "execute_result",
          "data": {
            "text/plain": [
              "DenseVector([1.0446, -7.9516, 3.8992, -13.0526, 5.2959, -0.3487, 0.4146, -0.3719, 0.4589])"
            ]
          },
          "metadata": {},
          "execution_count": 77
        }
      ],
      "metadata": {
        "colab": {
          "base_uri": "https://localhost:8080/"
        },
        "id": "kYTW3R0ASOJH",
        "outputId": "01c74ed2-2ded-480e-cd91-0d355b1684fd"
      }
    },
    {
      "cell_type": "code",
      "execution_count": 78,
      "source": [
        "#Checking features importance\n",
        "rf_feature_importance_df = pd.DataFrame()\n",
        "rf_feature_importance_df['feature'] = feature_columns\n",
        "rf_feature_importance_df['importance'] = modelLR.bestModel.stages[2].coefficients.values.tolist()\n",
        "rf_feature_importance_df = rf_feature_importance_df.sort_values(by='importance', ascending=False).reset_index(drop=True)\n",
        "rf_feature_importance_df"
      ],
      "outputs": [
        {
          "output_type": "execute_result",
          "data": {
            "text/html": [
              "\n",
              "  <div id=\"df-70fc33df-58d2-4d89-a7f8-f2138fcfb68c\">\n",
              "    <div class=\"colab-df-container\">\n",
              "      <div>\n",
              "<style scoped>\n",
              "    .dataframe tbody tr th:only-of-type {\n",
              "        vertical-align: middle;\n",
              "    }\n",
              "\n",
              "    .dataframe tbody tr th {\n",
              "        vertical-align: top;\n",
              "    }\n",
              "\n",
              "    .dataframe thead th {\n",
              "        text-align: right;\n",
              "    }\n",
              "</style>\n",
              "<table border=\"1\" class=\"dataframe\">\n",
              "  <thead>\n",
              "    <tr style=\"text-align: right;\">\n",
              "      <th></th>\n",
              "      <th>feature</th>\n",
              "      <th>importance</th>\n",
              "    </tr>\n",
              "  </thead>\n",
              "  <tbody>\n",
              "    <tr>\n",
              "      <th>0</th>\n",
              "      <td>avg_daily_song</td>\n",
              "      <td>5.295949</td>\n",
              "    </tr>\n",
              "    <tr>\n",
              "      <th>1</th>\n",
              "      <td>avg_daily_items</td>\n",
              "      <td>3.899159</td>\n",
              "    </tr>\n",
              "    <tr>\n",
              "      <th>2</th>\n",
              "      <td>downgraded</td>\n",
              "      <td>1.044590</td>\n",
              "    </tr>\n",
              "    <tr>\n",
              "      <th>3</th>\n",
              "      <td>state_index</td>\n",
              "      <td>0.458910</td>\n",
              "    </tr>\n",
              "    <tr>\n",
              "      <th>4</th>\n",
              "      <td>level_preChurn_index</td>\n",
              "      <td>0.414646</td>\n",
              "    </tr>\n",
              "    <tr>\n",
              "      <th>5</th>\n",
              "      <td>gender_index</td>\n",
              "      <td>-0.348722</td>\n",
              "    </tr>\n",
              "    <tr>\n",
              "      <th>6</th>\n",
              "      <td>agent_index</td>\n",
              "      <td>-0.371937</td>\n",
              "    </tr>\n",
              "    <tr>\n",
              "      <th>7</th>\n",
              "      <td>registered_days</td>\n",
              "      <td>-7.951639</td>\n",
              "    </tr>\n",
              "    <tr>\n",
              "      <th>8</th>\n",
              "      <td>avg_session</td>\n",
              "      <td>-13.052558</td>\n",
              "    </tr>\n",
              "  </tbody>\n",
              "</table>\n",
              "</div>\n",
              "      <button class=\"colab-df-convert\" onclick=\"convertToInteractive('df-70fc33df-58d2-4d89-a7f8-f2138fcfb68c')\"\n",
              "              title=\"Convert this dataframe to an interactive table.\"\n",
              "              style=\"display:none;\">\n",
              "        \n",
              "  <svg xmlns=\"http://www.w3.org/2000/svg\" height=\"24px\"viewBox=\"0 0 24 24\"\n",
              "       width=\"24px\">\n",
              "    <path d=\"M0 0h24v24H0V0z\" fill=\"none\"/>\n",
              "    <path d=\"M18.56 5.44l.94 2.06.94-2.06 2.06-.94-2.06-.94-.94-2.06-.94 2.06-2.06.94zm-11 1L8.5 8.5l.94-2.06 2.06-.94-2.06-.94L8.5 2.5l-.94 2.06-2.06.94zm10 10l.94 2.06.94-2.06 2.06-.94-2.06-.94-.94-2.06-.94 2.06-2.06.94z\"/><path d=\"M17.41 7.96l-1.37-1.37c-.4-.4-.92-.59-1.43-.59-.52 0-1.04.2-1.43.59L10.3 9.45l-7.72 7.72c-.78.78-.78 2.05 0 2.83L4 21.41c.39.39.9.59 1.41.59.51 0 1.02-.2 1.41-.59l7.78-7.78 2.81-2.81c.8-.78.8-2.07 0-2.86zM5.41 20L4 18.59l7.72-7.72 1.47 1.35L5.41 20z\"/>\n",
              "  </svg>\n",
              "      </button>\n",
              "      \n",
              "  <style>\n",
              "    .colab-df-container {\n",
              "      display:flex;\n",
              "      flex-wrap:wrap;\n",
              "      gap: 12px;\n",
              "    }\n",
              "\n",
              "    .colab-df-convert {\n",
              "      background-color: #E8F0FE;\n",
              "      border: none;\n",
              "      border-radius: 50%;\n",
              "      cursor: pointer;\n",
              "      display: none;\n",
              "      fill: #1967D2;\n",
              "      height: 32px;\n",
              "      padding: 0 0 0 0;\n",
              "      width: 32px;\n",
              "    }\n",
              "\n",
              "    .colab-df-convert:hover {\n",
              "      background-color: #E2EBFA;\n",
              "      box-shadow: 0px 1px 2px rgba(60, 64, 67, 0.3), 0px 1px 3px 1px rgba(60, 64, 67, 0.15);\n",
              "      fill: #174EA6;\n",
              "    }\n",
              "\n",
              "    [theme=dark] .colab-df-convert {\n",
              "      background-color: #3B4455;\n",
              "      fill: #D2E3FC;\n",
              "    }\n",
              "\n",
              "    [theme=dark] .colab-df-convert:hover {\n",
              "      background-color: #434B5C;\n",
              "      box-shadow: 0px 1px 3px 1px rgba(0, 0, 0, 0.15);\n",
              "      filter: drop-shadow(0px 1px 2px rgba(0, 0, 0, 0.3));\n",
              "      fill: #FFFFFF;\n",
              "    }\n",
              "  </style>\n",
              "\n",
              "      <script>\n",
              "        const buttonEl =\n",
              "          document.querySelector('#df-70fc33df-58d2-4d89-a7f8-f2138fcfb68c button.colab-df-convert');\n",
              "        buttonEl.style.display =\n",
              "          google.colab.kernel.accessAllowed ? 'block' : 'none';\n",
              "\n",
              "        async function convertToInteractive(key) {\n",
              "          const element = document.querySelector('#df-70fc33df-58d2-4d89-a7f8-f2138fcfb68c');\n",
              "          const dataTable =\n",
              "            await google.colab.kernel.invokeFunction('convertToInteractive',\n",
              "                                                     [key], {});\n",
              "          if (!dataTable) return;\n",
              "\n",
              "          const docLinkHtml = 'Like what you see? Visit the ' +\n",
              "            '<a target=\"_blank\" href=https://colab.research.google.com/notebooks/data_table.ipynb>data table notebook</a>'\n",
              "            + ' to learn more about interactive tables.';\n",
              "          element.innerHTML = '';\n",
              "          dataTable['output_type'] = 'display_data';\n",
              "          await google.colab.output.renderOutput(dataTable, element);\n",
              "          const docLink = document.createElement('div');\n",
              "          docLink.innerHTML = docLinkHtml;\n",
              "          element.appendChild(docLink);\n",
              "        }\n",
              "      </script>\n",
              "    </div>\n",
              "  </div>\n",
              "  "
            ],
            "text/plain": [
              "                feature  importance\n",
              "0        avg_daily_song    5.295949\n",
              "1       avg_daily_items    3.899159\n",
              "2            downgraded    1.044590\n",
              "3           state_index    0.458910\n",
              "4  level_preChurn_index    0.414646\n",
              "5          gender_index   -0.348722\n",
              "6           agent_index   -0.371937\n",
              "7       registered_days   -7.951639\n",
              "8           avg_session  -13.052558"
            ]
          },
          "metadata": {},
          "execution_count": 78
        }
      ],
      "metadata": {
        "colab": {
          "base_uri": "https://localhost:8080/",
          "height": 331
        },
        "id": "zeTdrYrjf1gk",
        "outputId": "a10afe7d-5139-49e4-c2c1-d389cda375f3"
      }
    },
    {
      "cell_type": "code",
      "execution_count": 79,
      "source": [
        "#Let's create a visualization of the feature importance for predicting churn\n",
        "plt.figure(figsize=(7,7))\n",
        "sns.barplot(x='importance', y='feature', data=rf_feature_importance_df, color=\"b\")\n",
        "plt.title('Feature Importance')\n",
        "plt.ylabel('');"
      ],
      "outputs": [
        {
          "output_type": "display_data",
          "data": {
            "image/png": "[encoded data removed]",
            "text/plain": [
              "<Figure size 504x504 with 1 Axes>"
            ]
          },
          "metadata": {
            "needs_background": "light"
          }
        }
      ],
      "metadata": {
        "colab": {
          "base_uri": "https://localhost:8080/",
          "height": 458
        },
        "id": "JivNrJ_3f2XY",
        "outputId": "075495f6-a3ea-44af-aaad-023af306036d"
      }
    },
    {
      "cell_type": "markdown",
      "source": [
        "\n",
        "\n",
        "---\n",
        "\n"
      ],
      "metadata": {
        "id": "S2tfZhnmgAYu"
      }
    }
  ],
  "metadata": {
    "application/vnd.databricks.v1+notebook": {
      "notebookName": "Sparkify",
      "dashboards": [],
      "notebookMetadata": {
        "pythonIndentUnit": 4
      },
      "language": "python",
      "widgets": {},
      "notebookOrigID": 740823937027148
    },
    "colab": {
      "name": "Sparkify.ipynb",
      "provenance": [],
      "toc_visible": true
    },
    "language_info": {
      "name": "python"
    },
    "kernelspec": {
      "name": "python3",
      "display_name": "Python 3"
    }
  },
  "nbformat": 4,
  "nbformat_minor": 2
}