{
 "cells": [
  {
   "cell_type": "markdown",
   "metadata": {
    "application/vnd.databricks.v1+cell": {
     "inputWidgets": {},
     "nuid": "208f99bb-9115-400f-912b-b146497df660",
     "showTitle": false,
     "title": ""
    }
   },
   "source": [
    "# Demonstration of customer churn analysis on streaming data through Spark Streaming"
   ]
  },
  {
   "cell_type": "markdown",
   "metadata": {
    "application/vnd.databricks.v1+cell": {
     "inputWidgets": {},
     "nuid": "dbc7ab04-40a9-47ce-8baa-5d1fdc863bc0",
     "showTitle": false,
     "title": ""
    }
   },
   "source": [
    "## Uploading and checking for presence of 10 sample files for simulating streaming"
   ]
  },
  {
   "cell_type": "code",
   "execution_count": 0,
   "metadata": {
    "application/vnd.databricks.v1+cell": {
     "inputWidgets": {},
     "nuid": "1d2add8e-8ed4-4595-b895-2f33673fb2a4",
     "showTitle": false,
     "title": ""
    }
   },
   "outputs": [
    {
     "data": {
      "text/plain": [
       "Out[34]: [FileInfo(path='dbfs:/FileStore/shared_uploads/kukka006@umn.edu/stream/Sample1.csv', name='Sample1.csv', size=581, modificationTime=1651298618000),\n",
       " FileInfo(path='dbfs:/FileStore/shared_uploads/kukka006@umn.edu/stream/Sample10.csv', name='Sample10.csv', size=570, modificationTime=1651342086000),\n",
       " FileInfo(path='dbfs:/FileStore/shared_uploads/kukka006@umn.edu/stream/Sample2.csv', name='Sample2.csv', size=1410, modificationTime=1651298618000),\n",
       " FileInfo(path='dbfs:/FileStore/shared_uploads/kukka006@umn.edu/stream/Sample3.csv', name='Sample3.csv', size=734, modificationTime=1651298619000),\n",
       " FileInfo(path='dbfs:/FileStore/shared_uploads/kukka006@umn.edu/stream/Sample4.csv', name='Sample4.csv', size=319, modificationTime=1651298619000),\n",
       " FileInfo(path='dbfs:/FileStore/shared_uploads/kukka006@umn.edu/stream/Sample5.csv', name='Sample5.csv', size=570, modificationTime=1651298620000),\n",
       " FileInfo(path='dbfs:/FileStore/shared_uploads/kukka006@umn.edu/stream/Sample6.csv', name='Sample6.csv', size=1410, modificationTime=1651342085000),\n",
       " FileInfo(path='dbfs:/FileStore/shared_uploads/kukka006@umn.edu/stream/Sample7.csv', name='Sample7.csv', size=581, modificationTime=1651342085000),\n",
       " FileInfo(path='dbfs:/FileStore/shared_uploads/kukka006@umn.edu/stream/Sample8.csv', name='Sample8.csv', size=734, modificationTime=1651342086000),\n",
       " FileInfo(path='dbfs:/FileStore/shared_uploads/kukka006@umn.edu/stream/Sample9.csv', name='Sample9.csv', size=319, modificationTime=1651342086000)]"
      ]
     },
     "metadata": {
      "application/vnd.databricks.v1+output": {
       "addedWidgets": {},
       "arguments": {},
       "data": "Out[34]: [FileInfo(path='dbfs:/FileStore/shared_uploads/kukka006@umn.edu/stream/Sample1.csv', name='Sample1.csv', size=581, modificationTime=1651298618000),\n FileInfo(path='dbfs:/FileStore/shared_uploads/kukka006@umn.edu/stream/Sample10.csv', name='Sample10.csv', size=570, modificationTime=1651342086000),\n FileInfo(path='dbfs:/FileStore/shared_uploads/kukka006@umn.edu/stream/Sample2.csv', name='Sample2.csv', size=1410, modificationTime=1651298618000),\n FileInfo(path='dbfs:/FileStore/shared_uploads/kukka006@umn.edu/stream/Sample3.csv', name='Sample3.csv', size=734, modificationTime=1651298619000),\n FileInfo(path='dbfs:/FileStore/shared_uploads/kukka006@umn.edu/stream/Sample4.csv', name='Sample4.csv', size=319, modificationTime=1651298619000),\n FileInfo(path='dbfs:/FileStore/shared_uploads/kukka006@umn.edu/stream/Sample5.csv', name='Sample5.csv', size=570, modificationTime=1651298620000),\n FileInfo(path='dbfs:/FileStore/shared_uploads/kukka006@umn.edu/stream/Sample6.csv', name='Sample6.csv', size=1410, modificationTime=1651342085000),\n FileInfo(path='dbfs:/FileStore/shared_uploads/kukka006@umn.edu/stream/Sample7.csv', name='Sample7.csv', size=581, modificationTime=1651342085000),\n FileInfo(path='dbfs:/FileStore/shared_uploads/kukka006@umn.edu/stream/Sample8.csv', name='Sample8.csv', size=734, modificationTime=1651342086000),\n FileInfo(path='dbfs:/FileStore/shared_uploads/kukka006@umn.edu/stream/Sample9.csv', name='Sample9.csv', size=319, modificationTime=1651342086000)]",
       "datasetInfos": [],
       "metadata": {},
       "removedWidgets": [],
       "type": "ansi"
      }
     },
     "output_type": "display_data"
    }
   ],
   "source": [
    "dbutils.fs.ls('/FileStore/shared_uploads/kukka006@umn.edu/stream/')"
   ]
  },
  {
   "cell_type": "markdown",
   "metadata": {
    "application/vnd.databricks.v1+cell": {
     "inputWidgets": {},
     "nuid": "92fcbe3a-dc9d-471f-95e7-2524eef97d6d",
     "showTitle": false,
     "title": ""
    }
   },
   "source": [
    "## Streaming data processing requires pre-specification of schema of data streaming in"
   ]
  },
  {
   "cell_type": "code",
   "execution_count": 0,
   "metadata": {
    "application/vnd.databricks.v1+cell": {
     "inputWidgets": {},
     "nuid": "20b529d0-f188-42dd-a21d-3468a9590736",
     "showTitle": false,
     "title": ""
    }
   },
   "outputs": [],
   "source": [
    "schema1 = StructType([StructField('label',IntegerType(),True),\n",
    "                      StructField('downgraded',IntegerType(),True),\n",
    "                      StructField('registered_days',IntegerType(),True),\n",
    "                      StructField('avg_daily_items',DoubleType(),True),\n",
    "                      StructField('avg_session',DoubleType(),True),\n",
    "                      StructField('avg_daily_song',DoubleType(),True),\n",
    "                      StructField('gender_index',DoubleType(),False),\n",
    "                      StructField('level_preChurn_index',DoubleType(),False),\n",
    "                      StructField('agent_index',DoubleType(),False),\n",
    "                      StructField('state_index',DoubleType(),False)])"
   ]
  },
  {
   "cell_type": "markdown",
   "metadata": {
    "application/vnd.databricks.v1+cell": {
     "inputWidgets": {},
     "nuid": "fa69236c-3319-4f35-b015-9b9c8cdd1eff",
     "showTitle": false,
     "title": ""
    }
   },
   "source": [
    "## Specifying source of streaming data - in this case source of sample files"
   ]
  },
  {
   "cell_type": "code",
   "execution_count": 0,
   "metadata": {
    "application/vnd.databricks.v1+cell": {
     "inputWidgets": {},
     "nuid": "5fb1f529-d9d8-4bc1-b0ab-9e8f38defb5b",
     "showTitle": false,
     "title": ""
    }
   },
   "outputs": [],
   "source": [
    "from pyspark.sql.types import *\n",
    "from pyspark.sql.functions import *  \n",
    "spark.conf.set(\"spark.sql.shuffle.partitions\", \"2\") \n",
    "streamingDataframe = (\n",
    "  spark\n",
    "    .readStream\n",
    "    .schema(schema1)\n",
    "    .option(\"maxFilesPerTrigger\", 1) \\\n",
    "    .format(\"csv\")\\\n",
    "    .option(\"header\", \"true\")\\\n",
    "    .load('/FileStore/shared_uploads/kukka006@umn.edu/stream/')\n",
    ")"
   ]
  },
  {
   "cell_type": "markdown",
   "metadata": {
    "application/vnd.databricks.v1+cell": {
     "inputWidgets": {},
     "nuid": "321c1b79-4202-4736-b7b4-491f8041ec2c",
     "showTitle": false,
     "title": ""
    }
   },
   "source": [
    "## Specifying the analyses that needs to be run on streaming data - these analyses will automatically be done on streaming data. In this case we are checking churn prediction distribution by state in real time."
   ]
  },
  {
   "cell_type": "code",
   "execution_count": 0,
   "metadata": {
    "application/vnd.databricks.v1+cell": {
     "inputWidgets": {},
     "nuid": "490ea647-c1fe-48d4-963d-5d1fa52c8d3e",
     "showTitle": false,
     "title": ""
    }
   },
   "outputs": [
    {
     "data": {
      "text/plain": [
       "Out[37]: True"
      ]
     },
     "metadata": {
      "application/vnd.databricks.v1+output": {
       "addedWidgets": {},
       "arguments": {},
       "data": "Out[37]: True",
       "datasetInfos": [],
       "metadata": {},
       "removedWidgets": [],
       "type": "ansi"
      }
     },
     "output_type": "display_data"
    }
   ],
   "source": [
    "churn_rate = modelRF.transform(streamingDataframe).groupBy('state_index').agg((avg('prediction').alias('churn_rate')))\n",
    "churn_rate.isStreaming"
   ]
  },
  {
   "cell_type": "markdown",
   "metadata": {
    "application/vnd.databricks.v1+cell": {
     "inputWidgets": {},
     "nuid": "c6c5401e-c453-4a4f-b32a-d23dd42187ca",
     "showTitle": false,
     "title": ""
    }
   },
   "source": [
    "## Specifying the mode of ouput of the stream data - in this case we are storing the new results in memory and calling the dataset \"counts\". This also starts the stream."
   ]
  },
  {
   "cell_type": "code",
   "execution_count": 0,
   "metadata": {
    "application/vnd.databricks.v1+cell": {
     "inputWidgets": {},
     "nuid": "c204ffee-14bc-4667-8519-4d8d21f34a15",
     "showTitle": false,
     "title": ""
    }
   },
   "outputs": [],
   "source": [
    "spark.conf.set(\"spark.sql.shuffle.partitions\", \"2\") \n",
    "query = (\n",
    "  churn_rate\n",
    "    .writeStream\n",
    "    .format(\"memory\")        # memory = store in-memory table (for testing only in Spark 2.0)\n",
    "    .queryName(\"counts\")     # counts = name of the in-memory table            \n",
    "    .outputMode(\"complete\")  # complete = all the counts should be in the table\n",
    "    .start()\n",
    ")"
   ]
  },
  {
   "cell_type": "markdown",
   "metadata": {
    "application/vnd.databricks.v1+cell": {
     "inputWidgets": {},
     "nuid": "c6fa95db-cdcd-4eac-ad85-a86aa71cd751",
     "showTitle": false,
     "title": ""
    }
   },
   "source": [
    "## Querying the live streaming data for state level cutomer churn - analysis updates automatically upon requerying this data after a few seconds"
   ]
  },
  {
   "cell_type": "code",
   "execution_count": 0,
   "metadata": {
    "application/vnd.databricks.v1+cell": {
     "inputWidgets": {},
     "nuid": "b167a2f6-99f1-4c3e-afbd-671b99a253b9",
     "showTitle": false,
     "title": ""
    }
   },
   "outputs": [
    {
     "data": {
      "text/html": [
       "<style scoped>\n",
       "  .table-result-container {\n",
       "    max-height: 300px;\n",
       "    overflow: auto;\n",
       "  }\n",
       "  table, th, td {\n",
       "    border: 1px solid black;\n",
       "    border-collapse: collapse;\n",
       "  }\n",
       "  th, td {\n",
       "    padding: 5px;\n",
       "  }\n",
       "  th {\n",
       "    text-align: left;\n",
       "  }\n",
       "</style><div class='table-result-container'><table class='table-result'><thead style='background-color: white'><tr><th>state</th><th>churn_rate</th></tr></thead><tbody><tr><td>0.0</td><td>0.1</td></tr><tr><td>1.0</td><td>0.16666666666666666</td></tr><tr><td>2.0</td><td>0.16666666666666666</td></tr><tr><td>3.0</td><td>0.0</td></tr><tr><td>4.0</td><td>0.0</td></tr><tr><td>5.0</td><td>0.0</td></tr><tr><td>8.0</td><td>0.0</td></tr><tr><td>9.0</td><td>0.0</td></tr><tr><td>10.0</td><td>0.5</td></tr><tr><td>13.0</td><td>0.0</td></tr><tr><td>14.0</td><td>0.0</td></tr><tr><td>18.0</td><td>0.0</td></tr><tr><td>19.0</td><td>0.0</td></tr><tr><td>20.0</td><td>1.0</td></tr><tr><td>21.0</td><td>0.0</td></tr><tr><td>36.0</td><td>0.0</td></tr><tr><td>38.0</td><td>1.0</td></tr><tr><td>39.0</td><td>0.0</td></tr><tr><td>40.0</td><td>0.0</td></tr><tr><td>43.0</td><td>0.0</td></tr><tr><td>45.0</td><td>0.0</td></tr><tr><td>52.0</td><td>0.0</td></tr><tr><td>56.0</td><td>0.0</td></tr></tbody></table></div>"
      ]
     },
     "metadata": {
      "application/vnd.databricks.v1+output": {
       "addedWidgets": {},
       "aggData": [],
       "aggError": "",
       "aggOverflow": false,
       "aggSchema": [],
       "aggSeriesLimitReached": false,
       "aggType": "",
       "arguments": {},
       "columnCustomDisplayInfos": {},
       "data": [
        [
         0,
         0.1
        ],
        [
         1,
         0.16666666666666666
        ],
        [
         2,
         0.16666666666666666
        ],
        [
         3,
         0
        ],
        [
         4,
         0
        ],
        [
         5,
         0
        ],
        [
         8,
         0
        ],
        [
         9,
         0
        ],
        [
         10,
         0.5
        ],
        [
         13,
         0
        ],
        [
         14,
         0
        ],
        [
         18,
         0
        ],
        [
         19,
         0
        ],
        [
         20,
         1
        ],
        [
         21,
         0
        ],
        [
         36,
         0
        ],
        [
         38,
         1
        ],
        [
         39,
         0
        ],
        [
         40,
         0
        ],
        [
         43,
         0
        ],
        [
         45,
         0
        ],
        [
         52,
         0
        ],
        [
         56,
         0
        ]
       ],
       "datasetInfos": [],
       "dbfsResultPath": null,
       "isJsonSchema": true,
       "metadata": {
        "isDbfsCommandResult": false
       },
       "overflow": false,
       "plotOptions": {
        "customPlotOptions": {
         "mapPlot": [],
         "plotlyBar": [
          {
           "key": "grouped",
           "value": true
          },
          {
           "key": "stacked",
           "value": false
          },
          {
           "key": "100_stacked",
           "value": false
          }
         ]
        },
        "displayType": "plotlyBar",
        "pivotAggregation": "avg",
        "pivotColumns": [],
        "xColumns": [
         "state"
        ],
        "yColumns": [
         "churn_rate"
        ]
       },
       "removedWidgets": [],
       "schema": [
        {
         "metadata": "{}",
         "name": "state",
         "type": "\"double\""
        },
        {
         "metadata": "{}",
         "name": "churn_rate",
         "type": "\"double\""
        }
       ],
       "type": "table"
      }
     },
     "output_type": "display_data"
    }
   ],
   "source": [
    "%sql select state_index as state,churn_rate from counts order by state_index"
   ]
  },
  {
   "cell_type": "markdown",
   "metadata": {
    "application/vnd.databricks.v1+cell": {
     "inputWidgets": {},
     "nuid": "80304bda-eee2-4533-81c6-c08ccb664751",
     "showTitle": false,
     "title": ""
    }
   },
   "source": [
    "## Stopping the stream"
   ]
  },
  {
   "cell_type": "code",
   "execution_count": 0,
   "metadata": {
    "application/vnd.databricks.v1+cell": {
     "inputWidgets": {},
     "nuid": "15f8567c-f0bd-405f-a92f-af03cfda7e8f",
     "showTitle": false,
     "title": ""
    }
   },
   "outputs": [],
   "source": [
    "query.stop()"
   ]
  }
 ],
 "metadata": {
  "application/vnd.databricks.v1+notebook": {
   "dashboards": [],
   "language": "python",
   "notebookMetadata": {
    "pythonIndentUnit": 4
   },
   "notebookName": "Trends",
   "notebookOrigID": 3390023317715245,
   "widgets": {}
  },
  "kernelspec": {
   "display_name": "Python 3",
   "language": "python",
   "name": "python3"
  },
  "language_info": {
   "codemirror_mode": {
    "name": "ipython",
    "version": 3
   },
   "file_extension": ".py",
   "mimetype": "text/x-python",
   "name": "python",
   "nbconvert_exporter": "python",
   "pygments_lexer": "ipython3",
   "version": "3.8.8"
  }
 },
 "nbformat": 4,
 "nbformat_minor": 1
}
